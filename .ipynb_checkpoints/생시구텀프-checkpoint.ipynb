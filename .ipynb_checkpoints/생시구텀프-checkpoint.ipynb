{
 "cells": [
  {
   "cell_type": "code",
   "execution_count": 1,
   "id": "a3ccb346",
   "metadata": {},
   "outputs": [
    {
     "data": {
      "text/html": [
       "<div>\n",
       "<style scoped>\n",
       "    .dataframe tbody tr th:only-of-type {\n",
       "        vertical-align: middle;\n",
       "    }\n",
       "\n",
       "    .dataframe tbody tr th {\n",
       "        vertical-align: top;\n",
       "    }\n",
       "\n",
       "    .dataframe thead th {\n",
       "        text-align: right;\n",
       "    }\n",
       "</style>\n",
       "<table border=\"1\" class=\"dataframe\">\n",
       "  <thead>\n",
       "    <tr style=\"text-align: right;\">\n",
       "      <th></th>\n",
       "      <th>제한하중</th>\n",
       "      <th>조정속도</th>\n",
       "      <th>감속거리</th>\n",
       "      <th>실제하중</th>\n",
       "      <th>선명도</th>\n",
       "      <th>불량여부</th>\n",
       "    </tr>\n",
       "  </thead>\n",
       "  <tbody>\n",
       "    <tr>\n",
       "      <th>0</th>\n",
       "      <td>100</td>\n",
       "      <td>1.01</td>\n",
       "      <td>13</td>\n",
       "      <td>108</td>\n",
       "      <td>26.05</td>\n",
       "      <td>정상</td>\n",
       "    </tr>\n",
       "    <tr>\n",
       "      <th>1</th>\n",
       "      <td>100</td>\n",
       "      <td>50.00</td>\n",
       "      <td>100</td>\n",
       "      <td>1781</td>\n",
       "      <td>50.34</td>\n",
       "      <td>불량</td>\n",
       "    </tr>\n",
       "    <tr>\n",
       "      <th>2</th>\n",
       "      <td>100</td>\n",
       "      <td>50.00</td>\n",
       "      <td>100</td>\n",
       "      <td>1808</td>\n",
       "      <td>48.80</td>\n",
       "      <td>불량</td>\n",
       "    </tr>\n",
       "    <tr>\n",
       "      <th>3</th>\n",
       "      <td>200</td>\n",
       "      <td>1.01</td>\n",
       "      <td>13</td>\n",
       "      <td>254</td>\n",
       "      <td>35.85</td>\n",
       "      <td>정상</td>\n",
       "    </tr>\n",
       "    <tr>\n",
       "      <th>4</th>\n",
       "      <td>300</td>\n",
       "      <td>1.01</td>\n",
       "      <td>9</td>\n",
       "      <td>344</td>\n",
       "      <td>36.05</td>\n",
       "      <td>정상</td>\n",
       "    </tr>\n",
       "    <tr>\n",
       "      <th>5</th>\n",
       "      <td>300</td>\n",
       "      <td>1.51</td>\n",
       "      <td>13</td>\n",
       "      <td>358</td>\n",
       "      <td>21.25</td>\n",
       "      <td>정상</td>\n",
       "    </tr>\n",
       "    <tr>\n",
       "      <th>6</th>\n",
       "      <td>300</td>\n",
       "      <td>1.01</td>\n",
       "      <td>13</td>\n",
       "      <td>297</td>\n",
       "      <td>25.79</td>\n",
       "      <td>정상</td>\n",
       "    </tr>\n",
       "    <tr>\n",
       "      <th>7</th>\n",
       "      <td>300</td>\n",
       "      <td>1.01</td>\n",
       "      <td>13</td>\n",
       "      <td>290</td>\n",
       "      <td>27.28</td>\n",
       "      <td>정상</td>\n",
       "    </tr>\n",
       "    <tr>\n",
       "      <th>8</th>\n",
       "      <td>300</td>\n",
       "      <td>1.31</td>\n",
       "      <td>9</td>\n",
       "      <td>313</td>\n",
       "      <td>20.73</td>\n",
       "      <td>정상</td>\n",
       "    </tr>\n",
       "    <tr>\n",
       "      <th>9</th>\n",
       "      <td>400</td>\n",
       "      <td>1.01</td>\n",
       "      <td>13</td>\n",
       "      <td>476</td>\n",
       "      <td>26.65</td>\n",
       "      <td>정상</td>\n",
       "    </tr>\n",
       "    <tr>\n",
       "      <th>10</th>\n",
       "      <td>400</td>\n",
       "      <td>10.00</td>\n",
       "      <td>13</td>\n",
       "      <td>1177</td>\n",
       "      <td>43.71</td>\n",
       "      <td>정상</td>\n",
       "    </tr>\n",
       "    <tr>\n",
       "      <th>11</th>\n",
       "      <td>400</td>\n",
       "      <td>10.00</td>\n",
       "      <td>100</td>\n",
       "      <td>1290</td>\n",
       "      <td>53.84</td>\n",
       "      <td>정상</td>\n",
       "    </tr>\n",
       "    <tr>\n",
       "      <th>12</th>\n",
       "      <td>500</td>\n",
       "      <td>1.01</td>\n",
       "      <td>13</td>\n",
       "      <td>498</td>\n",
       "      <td>40.36</td>\n",
       "      <td>정상</td>\n",
       "    </tr>\n",
       "    <tr>\n",
       "      <th>13</th>\n",
       "      <td>600</td>\n",
       "      <td>1.01</td>\n",
       "      <td>13</td>\n",
       "      <td>610</td>\n",
       "      <td>41.46</td>\n",
       "      <td>정상</td>\n",
       "    </tr>\n",
       "    <tr>\n",
       "      <th>14</th>\n",
       "      <td>700</td>\n",
       "      <td>1.01</td>\n",
       "      <td>13</td>\n",
       "      <td>796</td>\n",
       "      <td>49.17</td>\n",
       "      <td>정상</td>\n",
       "    </tr>\n",
       "    <tr>\n",
       "      <th>15</th>\n",
       "      <td>700</td>\n",
       "      <td>1.01</td>\n",
       "      <td>13</td>\n",
       "      <td>740</td>\n",
       "      <td>41.27</td>\n",
       "      <td>정상</td>\n",
       "    </tr>\n",
       "    <tr>\n",
       "      <th>16</th>\n",
       "      <td>800</td>\n",
       "      <td>1.01</td>\n",
       "      <td>13</td>\n",
       "      <td>808</td>\n",
       "      <td>40.70</td>\n",
       "      <td>정상</td>\n",
       "    </tr>\n",
       "    <tr>\n",
       "      <th>17</th>\n",
       "      <td>900</td>\n",
       "      <td>1.01</td>\n",
       "      <td>13</td>\n",
       "      <td>987</td>\n",
       "      <td>41.71</td>\n",
       "      <td>정상</td>\n",
       "    </tr>\n",
       "    <tr>\n",
       "      <th>18</th>\n",
       "      <td>1000</td>\n",
       "      <td>10.00</td>\n",
       "      <td>10</td>\n",
       "      <td>1231</td>\n",
       "      <td>46.59</td>\n",
       "      <td>정상</td>\n",
       "    </tr>\n",
       "    <tr>\n",
       "      <th>19</th>\n",
       "      <td>1000</td>\n",
       "      <td>1.01</td>\n",
       "      <td>13</td>\n",
       "      <td>1055</td>\n",
       "      <td>44.63</td>\n",
       "      <td>정상</td>\n",
       "    </tr>\n",
       "    <tr>\n",
       "      <th>20</th>\n",
       "      <td>1000</td>\n",
       "      <td>1.01</td>\n",
       "      <td>9</td>\n",
       "      <td>1074</td>\n",
       "      <td>41.58</td>\n",
       "      <td>정상</td>\n",
       "    </tr>\n",
       "    <tr>\n",
       "      <th>21</th>\n",
       "      <td>1000</td>\n",
       "      <td>50.00</td>\n",
       "      <td>1</td>\n",
       "      <td>1558</td>\n",
       "      <td>48.62</td>\n",
       "      <td>정상</td>\n",
       "    </tr>\n",
       "    <tr>\n",
       "      <th>22</th>\n",
       "      <td>1000</td>\n",
       "      <td>10.00</td>\n",
       "      <td>15</td>\n",
       "      <td>1279</td>\n",
       "      <td>50.90</td>\n",
       "      <td>정상</td>\n",
       "    </tr>\n",
       "    <tr>\n",
       "      <th>23</th>\n",
       "      <td>1000</td>\n",
       "      <td>50.00</td>\n",
       "      <td>50</td>\n",
       "      <td>1834</td>\n",
       "      <td>57.35</td>\n",
       "      <td>불량</td>\n",
       "    </tr>\n",
       "    <tr>\n",
       "      <th>24</th>\n",
       "      <td>1000</td>\n",
       "      <td>10.00</td>\n",
       "      <td>1</td>\n",
       "      <td>1428</td>\n",
       "      <td>52.76</td>\n",
       "      <td>정상</td>\n",
       "    </tr>\n",
       "    <tr>\n",
       "      <th>25</th>\n",
       "      <td>1000</td>\n",
       "      <td>50.00</td>\n",
       "      <td>13</td>\n",
       "      <td>1885</td>\n",
       "      <td>40.73</td>\n",
       "      <td>불량</td>\n",
       "    </tr>\n",
       "    <tr>\n",
       "      <th>26</th>\n",
       "      <td>1000</td>\n",
       "      <td>10.00</td>\n",
       "      <td>50</td>\n",
       "      <td>1175</td>\n",
       "      <td>55.83</td>\n",
       "      <td>정상</td>\n",
       "    </tr>\n",
       "    <tr>\n",
       "      <th>27</th>\n",
       "      <td>1000</td>\n",
       "      <td>50.00</td>\n",
       "      <td>20</td>\n",
       "      <td>1863</td>\n",
       "      <td>57.53</td>\n",
       "      <td>불량</td>\n",
       "    </tr>\n",
       "    <tr>\n",
       "      <th>28</th>\n",
       "      <td>1000</td>\n",
       "      <td>10.00</td>\n",
       "      <td>100</td>\n",
       "      <td>1164</td>\n",
       "      <td>53.74</td>\n",
       "      <td>정상</td>\n",
       "    </tr>\n",
       "    <tr>\n",
       "      <th>29</th>\n",
       "      <td>1000</td>\n",
       "      <td>50.00</td>\n",
       "      <td>5</td>\n",
       "      <td>1168</td>\n",
       "      <td>58.95</td>\n",
       "      <td>정상</td>\n",
       "    </tr>\n",
       "    <tr>\n",
       "      <th>30</th>\n",
       "      <td>1000</td>\n",
       "      <td>1.51</td>\n",
       "      <td>9</td>\n",
       "      <td>1059</td>\n",
       "      <td>41.30</td>\n",
       "      <td>정상</td>\n",
       "    </tr>\n",
       "    <tr>\n",
       "      <th>31</th>\n",
       "      <td>1000</td>\n",
       "      <td>5.00</td>\n",
       "      <td>13</td>\n",
       "      <td>1177</td>\n",
       "      <td>39.26</td>\n",
       "      <td>정상</td>\n",
       "    </tr>\n",
       "    <tr>\n",
       "      <th>32</th>\n",
       "      <td>1000</td>\n",
       "      <td>10.00</td>\n",
       "      <td>20</td>\n",
       "      <td>1231</td>\n",
       "      <td>40.77</td>\n",
       "      <td>정상</td>\n",
       "    </tr>\n",
       "    <tr>\n",
       "      <th>33</th>\n",
       "      <td>1000</td>\n",
       "      <td>50.00</td>\n",
       "      <td>10</td>\n",
       "      <td>1499</td>\n",
       "      <td>47.24</td>\n",
       "      <td>정상</td>\n",
       "    </tr>\n",
       "    <tr>\n",
       "      <th>34</th>\n",
       "      <td>1000</td>\n",
       "      <td>10.00</td>\n",
       "      <td>200</td>\n",
       "      <td>1267</td>\n",
       "      <td>39.63</td>\n",
       "      <td>정상</td>\n",
       "    </tr>\n",
       "    <tr>\n",
       "      <th>35</th>\n",
       "      <td>1000</td>\n",
       "      <td>20.00</td>\n",
       "      <td>13</td>\n",
       "      <td>1337</td>\n",
       "      <td>42.17</td>\n",
       "      <td>정상</td>\n",
       "    </tr>\n",
       "    <tr>\n",
       "      <th>36</th>\n",
       "      <td>1000</td>\n",
       "      <td>1.31</td>\n",
       "      <td>13</td>\n",
       "      <td>1018</td>\n",
       "      <td>45.90</td>\n",
       "      <td>정상</td>\n",
       "    </tr>\n",
       "    <tr>\n",
       "      <th>37</th>\n",
       "      <td>1000</td>\n",
       "      <td>1.01</td>\n",
       "      <td>13</td>\n",
       "      <td>1062</td>\n",
       "      <td>47.67</td>\n",
       "      <td>정상</td>\n",
       "    </tr>\n",
       "    <tr>\n",
       "      <th>38</th>\n",
       "      <td>1000</td>\n",
       "      <td>50.00</td>\n",
       "      <td>200</td>\n",
       "      <td>1783</td>\n",
       "      <td>52.72</td>\n",
       "      <td>불량</td>\n",
       "    </tr>\n",
       "  </tbody>\n",
       "</table>\n",
       "</div>"
      ],
      "text/plain": [
       "    제한하중   조정속도  감속거리  실제하중    선명도 불량여부\n",
       "0    100   1.01    13   108  26.05   정상\n",
       "1    100  50.00   100  1781  50.34   불량\n",
       "2    100  50.00   100  1808  48.80   불량\n",
       "3    200   1.01    13   254  35.85   정상\n",
       "4    300   1.01     9   344  36.05   정상\n",
       "5    300   1.51    13   358  21.25   정상\n",
       "6    300   1.01    13   297  25.79   정상\n",
       "7    300   1.01    13   290  27.28   정상\n",
       "8    300   1.31     9   313  20.73   정상\n",
       "9    400   1.01    13   476  26.65   정상\n",
       "10   400  10.00    13  1177  43.71   정상\n",
       "11   400  10.00   100  1290  53.84   정상\n",
       "12   500   1.01    13   498  40.36   정상\n",
       "13   600   1.01    13   610  41.46   정상\n",
       "14   700   1.01    13   796  49.17   정상\n",
       "15   700   1.01    13   740  41.27   정상\n",
       "16   800   1.01    13   808  40.70   정상\n",
       "17   900   1.01    13   987  41.71   정상\n",
       "18  1000  10.00    10  1231  46.59   정상\n",
       "19  1000   1.01    13  1055  44.63   정상\n",
       "20  1000   1.01     9  1074  41.58   정상\n",
       "21  1000  50.00     1  1558  48.62   정상\n",
       "22  1000  10.00    15  1279  50.90   정상\n",
       "23  1000  50.00    50  1834  57.35   불량\n",
       "24  1000  10.00     1  1428  52.76   정상\n",
       "25  1000  50.00    13  1885  40.73   불량\n",
       "26  1000  10.00    50  1175  55.83   정상\n",
       "27  1000  50.00    20  1863  57.53   불량\n",
       "28  1000  10.00   100  1164  53.74   정상\n",
       "29  1000  50.00     5  1168  58.95   정상\n",
       "30  1000   1.51     9  1059  41.30   정상\n",
       "31  1000   5.00    13  1177  39.26   정상\n",
       "32  1000  10.00    20  1231  40.77   정상\n",
       "33  1000  50.00    10  1499  47.24   정상\n",
       "34  1000  10.00   200  1267  39.63   정상\n",
       "35  1000  20.00    13  1337  42.17   정상\n",
       "36  1000   1.31    13  1018  45.90   정상\n",
       "37  1000   1.01    13  1062  47.67   정상\n",
       "38  1000  50.00   200  1783  52.72   불량"
      ]
     },
     "execution_count": 1,
     "metadata": {},
     "output_type": "execute_result"
    }
   ],
   "source": [
    "from sklearn.linear_model import LinearRegression\n",
    "import numpy as np\n",
    "import pandas as pd\n",
    "import matplotlib.pyplot as plt\n",
    "import matplotlib\n",
    "matplotlib.rcParams[\"font.family\"] = \"Malgun Gothic\"\n",
    "matplotlib.rcParams[\"font.size\"] = 15\n",
    "matplotlib.rcParams[\"axes.unicode_minus\"] = False\n",
    "\n",
    "\n",
    "data = pd.read_excel('프레스기 코인 데이터수집.xlsx', usecols = 'A,B,C,D,E,F')\n",
    "data"
   ]
  },
  {
   "cell_type": "code",
   "execution_count": 2,
   "id": "a5160372",
   "metadata": {},
   "outputs": [
    {
     "data": {
      "text/html": [
       "<div>\n",
       "<style scoped>\n",
       "    .dataframe tbody tr th:only-of-type {\n",
       "        vertical-align: middle;\n",
       "    }\n",
       "\n",
       "    .dataframe tbody tr th {\n",
       "        vertical-align: top;\n",
       "    }\n",
       "\n",
       "    .dataframe thead th {\n",
       "        text-align: right;\n",
       "    }\n",
       "</style>\n",
       "<table border=\"1\" class=\"dataframe\">\n",
       "  <thead>\n",
       "    <tr style=\"text-align: right;\">\n",
       "      <th></th>\n",
       "      <th>제한하중</th>\n",
       "      <th>조정속도</th>\n",
       "      <th>감속거리</th>\n",
       "      <th>실제하중</th>\n",
       "      <th>선명도</th>\n",
       "      <th>불량여부</th>\n",
       "    </tr>\n",
       "  </thead>\n",
       "  <tbody>\n",
       "    <tr>\n",
       "      <th>0</th>\n",
       "      <td>100</td>\n",
       "      <td>1.01</td>\n",
       "      <td>13</td>\n",
       "      <td>108</td>\n",
       "      <td>26.05</td>\n",
       "      <td>정상</td>\n",
       "    </tr>\n",
       "    <tr>\n",
       "      <th>1</th>\n",
       "      <td>100</td>\n",
       "      <td>50.00</td>\n",
       "      <td>100</td>\n",
       "      <td>1781</td>\n",
       "      <td>50.34</td>\n",
       "      <td>불량</td>\n",
       "    </tr>\n",
       "    <tr>\n",
       "      <th>2</th>\n",
       "      <td>100</td>\n",
       "      <td>50.00</td>\n",
       "      <td>100</td>\n",
       "      <td>1808</td>\n",
       "      <td>48.80</td>\n",
       "      <td>불량</td>\n",
       "    </tr>\n",
       "    <tr>\n",
       "      <th>3</th>\n",
       "      <td>200</td>\n",
       "      <td>1.01</td>\n",
       "      <td>13</td>\n",
       "      <td>254</td>\n",
       "      <td>35.85</td>\n",
       "      <td>정상</td>\n",
       "    </tr>\n",
       "    <tr>\n",
       "      <th>4</th>\n",
       "      <td>300</td>\n",
       "      <td>1.01</td>\n",
       "      <td>9</td>\n",
       "      <td>344</td>\n",
       "      <td>36.05</td>\n",
       "      <td>정상</td>\n",
       "    </tr>\n",
       "  </tbody>\n",
       "</table>\n",
       "</div>"
      ],
      "text/plain": [
       "   제한하중   조정속도  감속거리  실제하중    선명도 불량여부\n",
       "0   100   1.01    13   108  26.05   정상\n",
       "1   100  50.00   100  1781  50.34   불량\n",
       "2   100  50.00   100  1808  48.80   불량\n",
       "3   200   1.01    13   254  35.85   정상\n",
       "4   300   1.01     9   344  36.05   정상"
      ]
     },
     "execution_count": 2,
     "metadata": {},
     "output_type": "execute_result"
    }
   ],
   "source": [
    "data.head()"
   ]
  },
  {
   "cell_type": "code",
   "execution_count": 3,
   "id": "0d515b31",
   "metadata": {},
   "outputs": [
    {
     "name": "stdout",
     "output_type": "stream",
     "text": [
      "<class 'pandas.core.frame.DataFrame'>\n",
      "RangeIndex: 39 entries, 0 to 38\n",
      "Data columns (total 6 columns):\n",
      " #   Column  Non-Null Count  Dtype  \n",
      "---  ------  --------------  -----  \n",
      " 0   제한하중    39 non-null     int64  \n",
      " 1   조정속도    39 non-null     float64\n",
      " 2   감속거리    39 non-null     int64  \n",
      " 3   실제하중    39 non-null     int64  \n",
      " 4   선명도     39 non-null     float64\n",
      " 5   불량여부    39 non-null     object \n",
      "dtypes: float64(2), int64(3), object(1)\n",
      "memory usage: 2.0+ KB\n"
     ]
    }
   ],
   "source": [
    "data.info()"
   ]
  },
  {
   "cell_type": "code",
   "execution_count": 4,
   "id": "265d3e8a",
   "metadata": {},
   "outputs": [
    {
     "data": {
      "text/plain": [
       "(39, 6)"
      ]
     },
     "execution_count": 4,
     "metadata": {},
     "output_type": "execute_result"
    }
   ],
   "source": [
    "data.shape"
   ]
  },
  {
   "cell_type": "code",
   "execution_count": 5,
   "id": "ca3679c0",
   "metadata": {},
   "outputs": [
    {
     "data": {
      "text/plain": [
       "제한하중    0\n",
       "조정속도    0\n",
       "감속거리    0\n",
       "실제하중    0\n",
       "선명도     0\n",
       "불량여부    0\n",
       "dtype: int64"
      ]
     },
     "execution_count": 5,
     "metadata": {},
     "output_type": "execute_result"
    }
   ],
   "source": [
    "data.isna().sum()"
   ]
  },
  {
   "cell_type": "code",
   "execution_count": 6,
   "id": "11285ab4",
   "metadata": {},
   "outputs": [
    {
     "data": {
      "text/plain": [
       "제한하중    0\n",
       "조정속도    0\n",
       "감속거리    0\n",
       "실제하중    0\n",
       "선명도     0\n",
       "불량여부    0\n",
       "dtype: int64"
      ]
     },
     "execution_count": 6,
     "metadata": {},
     "output_type": "execute_result"
    }
   ],
   "source": [
    "data.isnull().sum()"
   ]
  },
  {
   "cell_type": "code",
   "execution_count": 7,
   "id": "a7b3d4d6",
   "metadata": {},
   "outputs": [
    {
     "data": {
      "text/html": [
       "<div>\n",
       "<style scoped>\n",
       "    .dataframe tbody tr th:only-of-type {\n",
       "        vertical-align: middle;\n",
       "    }\n",
       "\n",
       "    .dataframe tbody tr th {\n",
       "        vertical-align: top;\n",
       "    }\n",
       "\n",
       "    .dataframe thead th {\n",
       "        text-align: right;\n",
       "    }\n",
       "</style>\n",
       "<table border=\"1\" class=\"dataframe\">\n",
       "  <thead>\n",
       "    <tr style=\"text-align: right;\">\n",
       "      <th></th>\n",
       "      <th>제한하중</th>\n",
       "      <th>조정속도</th>\n",
       "      <th>감속거리</th>\n",
       "      <th>실제하중</th>\n",
       "      <th>선명도</th>\n",
       "      <th>불량여부</th>\n",
       "    </tr>\n",
       "  </thead>\n",
       "  <tbody>\n",
       "    <tr>\n",
       "      <th>0</th>\n",
       "      <td>100</td>\n",
       "      <td>1.01</td>\n",
       "      <td>13</td>\n",
       "      <td>108</td>\n",
       "      <td>26.05</td>\n",
       "      <td>1</td>\n",
       "    </tr>\n",
       "    <tr>\n",
       "      <th>1</th>\n",
       "      <td>100</td>\n",
       "      <td>50.00</td>\n",
       "      <td>100</td>\n",
       "      <td>1781</td>\n",
       "      <td>50.34</td>\n",
       "      <td>0</td>\n",
       "    </tr>\n",
       "    <tr>\n",
       "      <th>2</th>\n",
       "      <td>100</td>\n",
       "      <td>50.00</td>\n",
       "      <td>100</td>\n",
       "      <td>1808</td>\n",
       "      <td>48.80</td>\n",
       "      <td>0</td>\n",
       "    </tr>\n",
       "    <tr>\n",
       "      <th>3</th>\n",
       "      <td>200</td>\n",
       "      <td>1.01</td>\n",
       "      <td>13</td>\n",
       "      <td>254</td>\n",
       "      <td>35.85</td>\n",
       "      <td>1</td>\n",
       "    </tr>\n",
       "    <tr>\n",
       "      <th>4</th>\n",
       "      <td>300</td>\n",
       "      <td>1.01</td>\n",
       "      <td>9</td>\n",
       "      <td>344</td>\n",
       "      <td>36.05</td>\n",
       "      <td>1</td>\n",
       "    </tr>\n",
       "    <tr>\n",
       "      <th>5</th>\n",
       "      <td>300</td>\n",
       "      <td>1.51</td>\n",
       "      <td>13</td>\n",
       "      <td>358</td>\n",
       "      <td>21.25</td>\n",
       "      <td>1</td>\n",
       "    </tr>\n",
       "    <tr>\n",
       "      <th>6</th>\n",
       "      <td>300</td>\n",
       "      <td>1.01</td>\n",
       "      <td>13</td>\n",
       "      <td>297</td>\n",
       "      <td>25.79</td>\n",
       "      <td>1</td>\n",
       "    </tr>\n",
       "    <tr>\n",
       "      <th>7</th>\n",
       "      <td>300</td>\n",
       "      <td>1.01</td>\n",
       "      <td>13</td>\n",
       "      <td>290</td>\n",
       "      <td>27.28</td>\n",
       "      <td>1</td>\n",
       "    </tr>\n",
       "    <tr>\n",
       "      <th>8</th>\n",
       "      <td>300</td>\n",
       "      <td>1.31</td>\n",
       "      <td>9</td>\n",
       "      <td>313</td>\n",
       "      <td>20.73</td>\n",
       "      <td>1</td>\n",
       "    </tr>\n",
       "    <tr>\n",
       "      <th>9</th>\n",
       "      <td>400</td>\n",
       "      <td>1.01</td>\n",
       "      <td>13</td>\n",
       "      <td>476</td>\n",
       "      <td>26.65</td>\n",
       "      <td>1</td>\n",
       "    </tr>\n",
       "    <tr>\n",
       "      <th>10</th>\n",
       "      <td>400</td>\n",
       "      <td>10.00</td>\n",
       "      <td>13</td>\n",
       "      <td>1177</td>\n",
       "      <td>43.71</td>\n",
       "      <td>1</td>\n",
       "    </tr>\n",
       "    <tr>\n",
       "      <th>11</th>\n",
       "      <td>400</td>\n",
       "      <td>10.00</td>\n",
       "      <td>100</td>\n",
       "      <td>1290</td>\n",
       "      <td>53.84</td>\n",
       "      <td>1</td>\n",
       "    </tr>\n",
       "    <tr>\n",
       "      <th>12</th>\n",
       "      <td>500</td>\n",
       "      <td>1.01</td>\n",
       "      <td>13</td>\n",
       "      <td>498</td>\n",
       "      <td>40.36</td>\n",
       "      <td>1</td>\n",
       "    </tr>\n",
       "    <tr>\n",
       "      <th>13</th>\n",
       "      <td>600</td>\n",
       "      <td>1.01</td>\n",
       "      <td>13</td>\n",
       "      <td>610</td>\n",
       "      <td>41.46</td>\n",
       "      <td>1</td>\n",
       "    </tr>\n",
       "    <tr>\n",
       "      <th>14</th>\n",
       "      <td>700</td>\n",
       "      <td>1.01</td>\n",
       "      <td>13</td>\n",
       "      <td>796</td>\n",
       "      <td>49.17</td>\n",
       "      <td>1</td>\n",
       "    </tr>\n",
       "    <tr>\n",
       "      <th>15</th>\n",
       "      <td>700</td>\n",
       "      <td>1.01</td>\n",
       "      <td>13</td>\n",
       "      <td>740</td>\n",
       "      <td>41.27</td>\n",
       "      <td>1</td>\n",
       "    </tr>\n",
       "    <tr>\n",
       "      <th>16</th>\n",
       "      <td>800</td>\n",
       "      <td>1.01</td>\n",
       "      <td>13</td>\n",
       "      <td>808</td>\n",
       "      <td>40.70</td>\n",
       "      <td>1</td>\n",
       "    </tr>\n",
       "    <tr>\n",
       "      <th>17</th>\n",
       "      <td>900</td>\n",
       "      <td>1.01</td>\n",
       "      <td>13</td>\n",
       "      <td>987</td>\n",
       "      <td>41.71</td>\n",
       "      <td>1</td>\n",
       "    </tr>\n",
       "    <tr>\n",
       "      <th>18</th>\n",
       "      <td>1000</td>\n",
       "      <td>10.00</td>\n",
       "      <td>10</td>\n",
       "      <td>1231</td>\n",
       "      <td>46.59</td>\n",
       "      <td>1</td>\n",
       "    </tr>\n",
       "    <tr>\n",
       "      <th>19</th>\n",
       "      <td>1000</td>\n",
       "      <td>1.01</td>\n",
       "      <td>13</td>\n",
       "      <td>1055</td>\n",
       "      <td>44.63</td>\n",
       "      <td>1</td>\n",
       "    </tr>\n",
       "    <tr>\n",
       "      <th>20</th>\n",
       "      <td>1000</td>\n",
       "      <td>1.01</td>\n",
       "      <td>9</td>\n",
       "      <td>1074</td>\n",
       "      <td>41.58</td>\n",
       "      <td>1</td>\n",
       "    </tr>\n",
       "    <tr>\n",
       "      <th>21</th>\n",
       "      <td>1000</td>\n",
       "      <td>50.00</td>\n",
       "      <td>1</td>\n",
       "      <td>1558</td>\n",
       "      <td>48.62</td>\n",
       "      <td>1</td>\n",
       "    </tr>\n",
       "    <tr>\n",
       "      <th>22</th>\n",
       "      <td>1000</td>\n",
       "      <td>10.00</td>\n",
       "      <td>15</td>\n",
       "      <td>1279</td>\n",
       "      <td>50.90</td>\n",
       "      <td>1</td>\n",
       "    </tr>\n",
       "    <tr>\n",
       "      <th>23</th>\n",
       "      <td>1000</td>\n",
       "      <td>50.00</td>\n",
       "      <td>50</td>\n",
       "      <td>1834</td>\n",
       "      <td>57.35</td>\n",
       "      <td>0</td>\n",
       "    </tr>\n",
       "    <tr>\n",
       "      <th>24</th>\n",
       "      <td>1000</td>\n",
       "      <td>10.00</td>\n",
       "      <td>1</td>\n",
       "      <td>1428</td>\n",
       "      <td>52.76</td>\n",
       "      <td>1</td>\n",
       "    </tr>\n",
       "    <tr>\n",
       "      <th>25</th>\n",
       "      <td>1000</td>\n",
       "      <td>50.00</td>\n",
       "      <td>13</td>\n",
       "      <td>1885</td>\n",
       "      <td>40.73</td>\n",
       "      <td>0</td>\n",
       "    </tr>\n",
       "    <tr>\n",
       "      <th>26</th>\n",
       "      <td>1000</td>\n",
       "      <td>10.00</td>\n",
       "      <td>50</td>\n",
       "      <td>1175</td>\n",
       "      <td>55.83</td>\n",
       "      <td>1</td>\n",
       "    </tr>\n",
       "    <tr>\n",
       "      <th>27</th>\n",
       "      <td>1000</td>\n",
       "      <td>50.00</td>\n",
       "      <td>20</td>\n",
       "      <td>1863</td>\n",
       "      <td>57.53</td>\n",
       "      <td>0</td>\n",
       "    </tr>\n",
       "    <tr>\n",
       "      <th>28</th>\n",
       "      <td>1000</td>\n",
       "      <td>10.00</td>\n",
       "      <td>100</td>\n",
       "      <td>1164</td>\n",
       "      <td>53.74</td>\n",
       "      <td>1</td>\n",
       "    </tr>\n",
       "    <tr>\n",
       "      <th>29</th>\n",
       "      <td>1000</td>\n",
       "      <td>50.00</td>\n",
       "      <td>5</td>\n",
       "      <td>1168</td>\n",
       "      <td>58.95</td>\n",
       "      <td>1</td>\n",
       "    </tr>\n",
       "    <tr>\n",
       "      <th>30</th>\n",
       "      <td>1000</td>\n",
       "      <td>1.51</td>\n",
       "      <td>9</td>\n",
       "      <td>1059</td>\n",
       "      <td>41.30</td>\n",
       "      <td>1</td>\n",
       "    </tr>\n",
       "    <tr>\n",
       "      <th>31</th>\n",
       "      <td>1000</td>\n",
       "      <td>5.00</td>\n",
       "      <td>13</td>\n",
       "      <td>1177</td>\n",
       "      <td>39.26</td>\n",
       "      <td>1</td>\n",
       "    </tr>\n",
       "    <tr>\n",
       "      <th>32</th>\n",
       "      <td>1000</td>\n",
       "      <td>10.00</td>\n",
       "      <td>20</td>\n",
       "      <td>1231</td>\n",
       "      <td>40.77</td>\n",
       "      <td>1</td>\n",
       "    </tr>\n",
       "    <tr>\n",
       "      <th>33</th>\n",
       "      <td>1000</td>\n",
       "      <td>50.00</td>\n",
       "      <td>10</td>\n",
       "      <td>1499</td>\n",
       "      <td>47.24</td>\n",
       "      <td>1</td>\n",
       "    </tr>\n",
       "    <tr>\n",
       "      <th>34</th>\n",
       "      <td>1000</td>\n",
       "      <td>10.00</td>\n",
       "      <td>200</td>\n",
       "      <td>1267</td>\n",
       "      <td>39.63</td>\n",
       "      <td>1</td>\n",
       "    </tr>\n",
       "    <tr>\n",
       "      <th>35</th>\n",
       "      <td>1000</td>\n",
       "      <td>20.00</td>\n",
       "      <td>13</td>\n",
       "      <td>1337</td>\n",
       "      <td>42.17</td>\n",
       "      <td>1</td>\n",
       "    </tr>\n",
       "    <tr>\n",
       "      <th>36</th>\n",
       "      <td>1000</td>\n",
       "      <td>1.31</td>\n",
       "      <td>13</td>\n",
       "      <td>1018</td>\n",
       "      <td>45.90</td>\n",
       "      <td>1</td>\n",
       "    </tr>\n",
       "    <tr>\n",
       "      <th>37</th>\n",
       "      <td>1000</td>\n",
       "      <td>1.01</td>\n",
       "      <td>13</td>\n",
       "      <td>1062</td>\n",
       "      <td>47.67</td>\n",
       "      <td>1</td>\n",
       "    </tr>\n",
       "    <tr>\n",
       "      <th>38</th>\n",
       "      <td>1000</td>\n",
       "      <td>50.00</td>\n",
       "      <td>200</td>\n",
       "      <td>1783</td>\n",
       "      <td>52.72</td>\n",
       "      <td>0</td>\n",
       "    </tr>\n",
       "  </tbody>\n",
       "</table>\n",
       "</div>"
      ],
      "text/plain": [
       "    제한하중   조정속도  감속거리  실제하중    선명도  불량여부\n",
       "0    100   1.01    13   108  26.05     1\n",
       "1    100  50.00   100  1781  50.34     0\n",
       "2    100  50.00   100  1808  48.80     0\n",
       "3    200   1.01    13   254  35.85     1\n",
       "4    300   1.01     9   344  36.05     1\n",
       "5    300   1.51    13   358  21.25     1\n",
       "6    300   1.01    13   297  25.79     1\n",
       "7    300   1.01    13   290  27.28     1\n",
       "8    300   1.31     9   313  20.73     1\n",
       "9    400   1.01    13   476  26.65     1\n",
       "10   400  10.00    13  1177  43.71     1\n",
       "11   400  10.00   100  1290  53.84     1\n",
       "12   500   1.01    13   498  40.36     1\n",
       "13   600   1.01    13   610  41.46     1\n",
       "14   700   1.01    13   796  49.17     1\n",
       "15   700   1.01    13   740  41.27     1\n",
       "16   800   1.01    13   808  40.70     1\n",
       "17   900   1.01    13   987  41.71     1\n",
       "18  1000  10.00    10  1231  46.59     1\n",
       "19  1000   1.01    13  1055  44.63     1\n",
       "20  1000   1.01     9  1074  41.58     1\n",
       "21  1000  50.00     1  1558  48.62     1\n",
       "22  1000  10.00    15  1279  50.90     1\n",
       "23  1000  50.00    50  1834  57.35     0\n",
       "24  1000  10.00     1  1428  52.76     1\n",
       "25  1000  50.00    13  1885  40.73     0\n",
       "26  1000  10.00    50  1175  55.83     1\n",
       "27  1000  50.00    20  1863  57.53     0\n",
       "28  1000  10.00   100  1164  53.74     1\n",
       "29  1000  50.00     5  1168  58.95     1\n",
       "30  1000   1.51     9  1059  41.30     1\n",
       "31  1000   5.00    13  1177  39.26     1\n",
       "32  1000  10.00    20  1231  40.77     1\n",
       "33  1000  50.00    10  1499  47.24     1\n",
       "34  1000  10.00   200  1267  39.63     1\n",
       "35  1000  20.00    13  1337  42.17     1\n",
       "36  1000   1.31    13  1018  45.90     1\n",
       "37  1000   1.01    13  1062  47.67     1\n",
       "38  1000  50.00   200  1783  52.72     0"
      ]
     },
     "execution_count": 7,
     "metadata": {},
     "output_type": "execute_result"
    }
   ],
   "source": [
    "quality = pd.get_dummies(data['불량여부'], drop_first = True)\n",
    "data.불량여부 = quality\n",
    "#print(type(data.불량여부))\n",
    "data"
   ]
  },
  {
   "cell_type": "code",
   "execution_count": 8,
   "id": "360d5c17",
   "metadata": {},
   "outputs": [
    {
     "data": {
      "text/plain": [
       "<function matplotlib.pyplot.show(close=None, block=None)>"
      ]
     },
     "execution_count": 8,
     "metadata": {},
     "output_type": "execute_result"
    },
    {
     "data": {
      "image/png": "[encoded data removed]",
      "text/plain": [
       "<Figure size 504x504 with 1 Axes>"
      ]
     },
     "metadata": {
      "needs_background": "light"
     },
     "output_type": "display_data"
    }
   ],
   "source": [
    "#############그래프 이뻐보임#####################\n",
    "colors_1 = ['red' if x >= 1700 else 'blue' for x in data.실제하중]\n",
    "plt.figure(figsize=(7, 7))\n",
    "plt.scatter(data['선명도'],data['제한하중'], color = colors_1)\n",
    "plt.xlabel('선명도')\n",
    "plt.ylabel('제한하중')\n",
    "plt.title('빨간색은 불량')\n",
    "plt.show"
   ]
  },
  {
   "cell_type": "code",
   "execution_count": 9,
   "id": "db3b6a9a",
   "metadata": {},
   "outputs": [
    {
     "data": {
      "text/plain": [
       "<function matplotlib.pyplot.show(close=None, block=None)>"
      ]
     },
     "execution_count": 9,
     "metadata": {},
     "output_type": "execute_result"
    },
    {
     "data": {
      "image/png": "[encoded data removed]",
      "text/plain": [
       "<Figure size 504x504 with 1 Axes>"
      ]
     },
     "metadata": {
      "needs_background": "light"
     },
     "output_type": "display_data"
    }
   ],
   "source": [
    "colors_1 = ['red' if x >= 1700 else 'blue' for x in data.실제하중]\n",
    "plt.figure(figsize=(7, 7))\n",
    "plt.scatter(data['조정속도'],data['제한하중'], color = colors_1)\n",
    "plt.xlabel('조정속도')\n",
    "plt.ylabel('제한하중')\n",
    "plt.title('빨간색은 불량')\n",
    "plt.show"
   ]
  },
  {
   "cell_type": "code",
   "execution_count": 10,
   "id": "5dbac08d",
   "metadata": {},
   "outputs": [
    {
     "data": {
      "text/plain": [
       "<function matplotlib.pyplot.show(close=None, block=None)>"
      ]
     },
     "execution_count": 10,
     "metadata": {},
     "output_type": "execute_result"
    },
    {
     "data": {
      "image/png": "[encoded data removed]",
      "text/plain": [
       "<Figure size 504x504 with 1 Axes>"
      ]
     },
     "metadata": {
      "needs_background": "light"
     },
     "output_type": "display_data"
    }
   ],
   "source": [
    "colors_1 = ['red' if x >= 1700 else 'blue' for x in data.실제하중]\n",
    "plt.figure(figsize=(7, 7))\n",
    "plt.scatter(data['실제하중'],data['제한하중'], color = colors_1)\n",
    "plt.xlabel('실제하중')\n",
    "plt.ylabel('제한하중')\n",
    "plt.title('빨간색은 불량')\n",
    "plt.show"
   ]
  },
  {
   "cell_type": "code",
   "execution_count": 11,
   "id": "7a1a3ba0",
   "metadata": {},
   "outputs": [
    {
     "data": {
      "text/plain": [
       "<function matplotlib.pyplot.show(close=None, block=None)>"
      ]
     },
     "execution_count": 11,
     "metadata": {},
     "output_type": "execute_result"
    },
    {
     "data": {
      "image/png": "[encoded data removed]",
      "text/plain": [
       "<Figure size 504x504 with 1 Axes>"
      ]
     },
     "metadata": {
      "needs_background": "light"
     },
     "output_type": "display_data"
    }
   ],
   "source": [
    "colors_1 = ['red' if x >= 1700 else 'blue' for x in data.실제하중]\n",
    "plt.figure(figsize=(7, 7))\n",
    "plt.scatter(data['감속거리'],data['제한하중'], color = colors_1)\n",
    "plt.xlabel('감속거리')\n",
    "plt.ylabel('제한하중')\n",
    "plt.title('빨간색은 불량')\n",
    "plt.show"
   ]
  },
  {
   "cell_type": "code",
   "execution_count": 12,
   "id": "87c81f08",
   "metadata": {},
   "outputs": [
    {
     "data": {
      "text/plain": [
       "<function matplotlib.pyplot.show(close=None, block=None)>"
      ]
     },
     "execution_count": 12,
     "metadata": {},
     "output_type": "execute_result"
    },
    {
     "data": {
      "image/png": "[encoded data removed]",
      "text/plain": [
       "<Figure size 504x504 with 1 Axes>"
      ]
     },
     "metadata": {
      "needs_background": "light"
     },
     "output_type": "display_data"
    }
   ],
   "source": [
    "colors_1 = ['red' if x >= 1700 else 'blue' for x in data.실제하중]\n",
    "plt.figure(figsize=(7, 7))\n",
    "plt.scatter(data['불량여부'],data['제한하중'], color = colors_1)\n",
    "plt.xlabel('불량여부')\n",
    "plt.ylabel('제한하중')\n",
    "plt.title('빨간색은 불량')\n",
    "plt.show"
   ]
  },
  {
   "cell_type": "code",
   "execution_count": 13,
   "id": "f4f77c75",
   "metadata": {},
   "outputs": [
    {
     "data": {
      "text/plain": [
       "<function matplotlib.pyplot.show(close=None, block=None)>"
      ]
     },
     "execution_count": 13,
     "metadata": {},
     "output_type": "execute_result"
    },
    {
     "data": {
      "image/png": "[encoded data removed]",
      "text/plain": [
       "<Figure size 504x504 with 1 Axes>"
      ]
     },
     "metadata": {
      "needs_background": "light"
     },
     "output_type": "display_data"
    }
   ],
   "source": [
    "############여기부터가 선명도\n",
    "colors_1 = ['red' if x >= 1700 else 'blue' for x in data.실제하중]\n",
    "plt.figure(figsize=(7, 7))\n",
    "plt.scatter(data['제한하중'],data['선명도'], color = colors_1)\n",
    "plt.xlabel('제한하중')\n",
    "plt.ylabel('선명도')\n",
    "plt.title('빨간색은 불량')\n",
    "plt.show"
   ]
  },
  {
   "cell_type": "code",
   "execution_count": 14,
   "id": "0700bc80",
   "metadata": {},
   "outputs": [
    {
     "data": {
      "text/plain": [
       "<function matplotlib.pyplot.show(close=None, block=None)>"
      ]
     },
     "execution_count": 14,
     "metadata": {},
     "output_type": "execute_result"
    },
    {
     "data": {
      "image/png": "[encoded data removed]",
      "text/plain": [
       "<Figure size 504x504 with 1 Axes>"
      ]
     },
     "metadata": {
      "needs_background": "light"
     },
     "output_type": "display_data"
    }
   ],
   "source": [
    "colors_1 = ['red' if x >= 1700 else 'blue' for x in data.실제하중]\n",
    "plt.figure(figsize=(7, 7))\n",
    "plt.scatter(data['조정속도'],data['선명도'], color = colors_1)\n",
    "plt.xlabel('조정속도')\n",
    "plt.ylabel('선명도')\n",
    "plt.title('빨간색은 불량')\n",
    "plt.show"
   ]
  },
  {
   "cell_type": "code",
   "execution_count": 15,
   "id": "f8c59680",
   "metadata": {},
   "outputs": [
    {
     "data": {
      "text/plain": [
       "<function matplotlib.pyplot.show(close=None, block=None)>"
      ]
     },
     "execution_count": 15,
     "metadata": {},
     "output_type": "execute_result"
    },
    {
     "data": {
      "image/png": "[encoded data removed]",
      "text/plain": [
       "<Figure size 504x504 with 1 Axes>"
      ]
     },
     "metadata": {
      "needs_background": "light"
     },
     "output_type": "display_data"
    }
   ],
   "source": [
    "colors_1 = ['red' if x >= 1700 else 'blue' for x in data.실제하중]\n",
    "plt.figure(figsize=(7, 7))\n",
    "plt.scatter(data['감속거리'],data['선명도'], color = colors_1)\n",
    "plt.xlabel('감속거리')\n",
    "plt.ylabel('선명도')\n",
    "plt.title('빨간색은 불량')\n",
    "plt.show"
   ]
  },
  {
   "cell_type": "code",
   "execution_count": 16,
   "id": "1fb79af0",
   "metadata": {},
   "outputs": [
    {
     "data": {
      "text/plain": [
       "<function matplotlib.pyplot.show(close=None, block=None)>"
      ]
     },
     "execution_count": 16,
     "metadata": {},
     "output_type": "execute_result"
    },
    {
     "data": {
      "image/png": "[encoded data removed]",
      "text/plain": [
       "<Figure size 504x504 with 1 Axes>"
      ]
     },
     "metadata": {
      "needs_background": "light"
     },
     "output_type": "display_data"
    }
   ],
   "source": [
    "colors_1 = ['red' if x >= 1700 else 'blue' for x in data.실제하중]\n",
    "plt.figure(figsize=(7, 7))\n",
    "plt.scatter(data['실제하중'],data['선명도'], color = colors_1)\n",
    "plt.xlabel('실제하중')\n",
    "plt.ylabel('선명도')\n",
    "plt.title('빨간색은 불량')\n",
    "plt.show"
   ]
  },
  {
   "cell_type": "code",
   "execution_count": 17,
   "id": "8cbdfcd8",
   "metadata": {},
   "outputs": [
    {
     "data": {
      "text/plain": [
       "<function matplotlib.pyplot.show(close=None, block=None)>"
      ]
     },
     "execution_count": 17,
     "metadata": {},
     "output_type": "execute_result"
    },
    {
     "data": {
      "image/png": "[encoded data removed]",
      "text/plain": [
       "<Figure size 504x504 with 1 Axes>"
      ]
     },
     "metadata": {
      "needs_background": "light"
     },
     "output_type": "display_data"
    }
   ],
   "source": [
    "colors_1 = ['red' if x >= 1700 else 'blue' for x in data.실제하중]\n",
    "plt.figure(figsize=(7, 7))\n",
    "plt.scatter(data['불량여부'],data['선명도'], color = colors_1)\n",
    "plt.xlabel('불량여부')\n",
    "plt.ylabel('선명도')\n",
    "plt.title('빨간색은 불량')\n",
    "plt.show"
   ]
  },
  {
   "cell_type": "code",
   "execution_count": 18,
   "id": "144688c1",
   "metadata": {},
   "outputs": [
    {
     "data": {
      "text/plain": [
       "<function matplotlib.pyplot.show(close=None, block=None)>"
      ]
     },
     "execution_count": 18,
     "metadata": {},
     "output_type": "execute_result"
    },
    {
     "data": {
      "image/png": "[encoded data removed]",
      "text/plain": [
       "<Figure size 504x504 with 1 Axes>"
      ]
     },
     "metadata": {
      "needs_background": "light"
     },
     "output_type": "display_data"
    }
   ],
   "source": [
    "colors_1 = ['red' if x >= 1700 else 'blue' for x in data.실제하중]\n",
    "plt.figure(figsize=(7, 7))\n",
    "plt.scatter(data['제한하중'],data['실제하중'], color = colors_1)\n",
    "plt.xlabel('제한하중')\n",
    "plt.ylabel('실제하중')\n",
    "plt.title('빨간색은 불량')\n",
    "plt.show"
   ]
  },
  {
   "cell_type": "code",
   "execution_count": 19,
   "id": "a96d851c",
   "metadata": {},
   "outputs": [
    {
     "data": {
      "text/plain": [
       "<function matplotlib.pyplot.show(close=None, block=None)>"
      ]
     },
     "execution_count": 19,
     "metadata": {},
     "output_type": "execute_result"
    },
    {
     "data": {
      "image/png": "[encoded data removed]",
      "text/plain": [
       "<Figure size 504x504 with 1 Axes>"
      ]
     },
     "metadata": {
      "needs_background": "light"
     },
     "output_type": "display_data"
    }
   ],
   "source": [
    "colors_1 = ['red' if x >= 1700 else 'blue' for x in data.실제하중]\n",
    "plt.figure(figsize=(7, 7))\n",
    "plt.scatter(data['조정속도'],data['실제하중'], color = colors_1)\n",
    "plt.xlabel('조정속도')\n",
    "plt.ylabel('실제하중')\n",
    "plt.title('빨간색은 불량')\n",
    "plt.show"
   ]
  },
  {
   "cell_type": "code",
   "execution_count": 20,
   "id": "23a4a7c6",
   "metadata": {},
   "outputs": [
    {
     "data": {
      "text/plain": [
       "<function matplotlib.pyplot.show(close=None, block=None)>"
      ]
     },
     "execution_count": 20,
     "metadata": {},
     "output_type": "execute_result"
    },
    {
     "data": {
      "image/png": "[encoded data removed]",
      "text/plain": [
       "<Figure size 504x504 with 1 Axes>"
      ]
     },
     "metadata": {
      "needs_background": "light"
     },
     "output_type": "display_data"
    }
   ],
   "source": [
    "colors_1 = ['red' if x >= 1700 else 'blue' for x in data.실제하중]\n",
    "plt.figure(figsize=(7, 7))\n",
    "plt.scatter(data['감속거리'],data['실제하중'], color = colors_1)\n",
    "plt.xlabel('감속거리')\n",
    "plt.ylabel('실제하중')\n",
    "plt.title('빨간색은 불량')\n",
    "plt.show"
   ]
  },
  {
   "cell_type": "code",
   "execution_count": 21,
   "id": "434448e3",
   "metadata": {},
   "outputs": [
    {
     "data": {
      "text/plain": [
       "<function matplotlib.pyplot.show(close=None, block=None)>"
      ]
     },
     "execution_count": 21,
     "metadata": {},
     "output_type": "execute_result"
    },
    {
     "data": {
      "image/png": "[encoded data removed]",
      "text/plain": [
       "<Figure size 504x504 with 1 Axes>"
      ]
     },
     "metadata": {
      "needs_background": "light"
     },
     "output_type": "display_data"
    }
   ],
   "source": [
    "colors_1 = ['red' if x >= 1700 else 'blue' for x in data.실제하중]\n",
    "plt.figure(figsize=(7, 7))\n",
    "plt.scatter(data['선명도'],data['실제하중'], color = colors_1)\n",
    "plt.xlabel('선명도')\n",
    "plt.ylabel('실제하중')\n",
    "plt.title('빨간색은 불량')\n",
    "plt.show"
   ]
  },
  {
   "cell_type": "code",
   "execution_count": 22,
   "id": "b8b0d255",
   "metadata": {},
   "outputs": [
    {
     "data": {
      "text/plain": [
       "<function matplotlib.pyplot.show(close=None, block=None)>"
      ]
     },
     "execution_count": 22,
     "metadata": {},
     "output_type": "execute_result"
    },
    {
     "data": {
      "image/png": "[encoded data removed]",
      "text/plain": [
       "<Figure size 504x504 with 1 Axes>"
      ]
     },
     "metadata": {
      "needs_background": "light"
     },
     "output_type": "display_data"
    }
   ],
   "source": [
    "colors_1 = ['red' if x >= 1700 else 'blue' for x in data.실제하중]\n",
    "plt.figure(figsize=(7, 7))\n",
    "plt.scatter(data['제한하중'],data['감속거리'], color = colors_1)\n",
    "plt.xlabel('제한하중')\n",
    "plt.ylabel('감속거리')\n",
    "plt.title('빨간색은 불량')\n",
    "plt.show"
   ]
  },
  {
   "cell_type": "code",
   "execution_count": 23,
   "id": "cdbb4741",
   "metadata": {},
   "outputs": [
    {
     "data": {
      "text/plain": [
       "<function matplotlib.pyplot.show(close=None, block=None)>"
      ]
     },
     "execution_count": 23,
     "metadata": {},
     "output_type": "execute_result"
    },
    {
     "data": {
      "image/png": "[encoded data removed]",
      "text/plain": [
       "<Figure size 504x504 with 1 Axes>"
      ]
     },
     "metadata": {
      "needs_background": "light"
     },
     "output_type": "display_data"
    }
   ],
   "source": [
    "colors_1 = ['red' if x >= 1700 else 'blue' for x in data.실제하중]\n",
    "plt.figure(figsize=(7, 7))\n",
    "plt.scatter(data['조정속도'],data['감속거리'], color = colors_1)\n",
    "plt.xlabel('조정속도')\n",
    "plt.ylabel('감속거리')\n",
    "plt.title('빨간색은 불량')\n",
    "plt.show"
   ]
  },
  {
   "cell_type": "code",
   "execution_count": 24,
   "id": "cb605f59",
   "metadata": {},
   "outputs": [
    {
     "data": {
      "text/plain": [
       "<function matplotlib.pyplot.show(close=None, block=None)>"
      ]
     },
     "execution_count": 24,
     "metadata": {},
     "output_type": "execute_result"
    },
    {
     "data": {
      "image/png": "[encoded data removed]",
      "text/plain": [
       "<Figure size 504x504 with 1 Axes>"
      ]
     },
     "metadata": {
      "needs_background": "light"
     },
     "output_type": "display_data"
    }
   ],
   "source": [
    "colors_1 = ['red' if x >= 1700 else 'blue' for x in data.실제하중]\n",
    "plt.figure(figsize=(7, 7))\n",
    "plt.scatter(data['선명도'],data['감속거리'], color = colors_1)\n",
    "plt.xlabel('선명도')\n",
    "plt.ylabel('감속거리')\n",
    "plt.title('빨간색은 불량')\n",
    "plt.show"
   ]
  },
  {
   "cell_type": "code",
   "execution_count": 25,
   "id": "e14902f9",
   "metadata": {},
   "outputs": [
    {
     "data": {
      "text/plain": [
       "<function matplotlib.pyplot.show(close=None, block=None)>"
      ]
     },
     "execution_count": 25,
     "metadata": {},
     "output_type": "execute_result"
    },
    {
     "data": {
      "image/png": "[encoded data removed]",
      "text/plain": [
       "<Figure size 504x504 with 1 Axes>"
      ]
     },
     "metadata": {
      "needs_background": "light"
     },
     "output_type": "display_data"
    }
   ],
   "source": [
    "colors_1 = ['red' if x >= 1700 else 'blue' for x in data.실제하중]\n",
    "plt.figure(figsize=(7, 7))\n",
    "plt.scatter(data['실제하중'],data['감속거리'], color = colors_1)\n",
    "plt.xlabel('실제하중')\n",
    "plt.ylabel('감속거리')\n",
    "plt.title('빨간색은 불량')\n",
    "plt.show"
   ]
  },
  {
   "cell_type": "code",
   "execution_count": 26,
   "id": "9bb5ff54",
   "metadata": {},
   "outputs": [
    {
     "data": {
      "text/plain": [
       "<function matplotlib.pyplot.show(close=None, block=None)>"
      ]
     },
     "execution_count": 26,
     "metadata": {},
     "output_type": "execute_result"
    },
    {
     "data": {
      "image/png": "[encoded data removed]",
      "text/plain": [
       "<Figure size 504x504 with 1 Axes>"
      ]
     },
     "metadata": {
      "needs_background": "light"
     },
     "output_type": "display_data"
    }
   ],
   "source": [
    "colors_1 = ['red' if x >= 1700 else 'blue' for x in data.실제하중]\n",
    "plt.figure(figsize=(7, 7))\n",
    "plt.scatter(data['실제하중'],data['조정속도'], color = colors_1)\n",
    "plt.xlabel('선명도')\n",
    "plt.ylabel('조정속도')\n",
    "plt.title('빨간색은 불량')\n",
    "plt.show"
   ]
  },
  {
   "cell_type": "code",
   "execution_count": 27,
   "id": "67175d69",
   "metadata": {},
   "outputs": [
    {
     "data": {
      "text/plain": [
       "<function matplotlib.pyplot.show(close=None, block=None)>"
      ]
     },
     "execution_count": 27,
     "metadata": {},
     "output_type": "execute_result"
    },
    {
     "data": {
      "image/png": "[encoded data removed]",
      "text/plain": [
       "<Figure size 504x504 with 1 Axes>"
      ]
     },
     "metadata": {
      "needs_background": "light"
     },
     "output_type": "display_data"
    }
   ],
   "source": [
    "colors_1 = ['red' if x >= 1700 else 'blue' for x in data.실제하중]\n",
    "plt.figure(figsize=(7, 7))\n",
    "plt.scatter(data['감속거리'],data['조정속도'], color = colors_1)\n",
    "plt.xlabel('감속거리')\n",
    "plt.ylabel('조정속도')\n",
    "plt.title('빨간색은 불량')\n",
    "plt.show"
   ]
  },
  {
   "cell_type": "code",
   "execution_count": 28,
   "id": "f7fedbcb",
   "metadata": {},
   "outputs": [
    {
     "data": {
      "text/plain": [
       "<function matplotlib.pyplot.show(close=None, block=None)>"
      ]
     },
     "execution_count": 28,
     "metadata": {},
     "output_type": "execute_result"
    },
    {
     "data": {
      "image/png": "[encoded data removed]",
      "text/plain": [
       "<Figure size 504x504 with 1 Axes>"
      ]
     },
     "metadata": {
      "needs_background": "light"
     },
     "output_type": "display_data"
    }
   ],
   "source": [
    "colors_1 = ['red' if x >= 1700 else 'blue' for x in data.실제하중]\n",
    "plt.figure(figsize=(7, 7))\n",
    "plt.scatter(data['실제하중'],data['조정속도'], color = colors_1)\n",
    "plt.xlabel('실제하중')\n",
    "plt.ylabel('조정속도')\n",
    "plt.title('빨간색은 불량')\n",
    "plt.show"
   ]
  },
  {
   "cell_type": "code",
   "execution_count": 29,
   "id": "4ad89ac7",
   "metadata": {},
   "outputs": [
    {
     "data": {
      "text/plain": [
       "<function matplotlib.pyplot.show(close=None, block=None)>"
      ]
     },
     "execution_count": 29,
     "metadata": {},
     "output_type": "execute_result"
    },
    {
     "data": {
      "image/png": "[encoded data removed]",
      "text/plain": [
       "<Figure size 504x504 with 1 Axes>"
      ]
     },
     "metadata": {
      "needs_background": "light"
     },
     "output_type": "display_data"
    }
   ],
   "source": [
    "colors_1 = ['red' if x >= 1700 else 'blue' for x in data.실제하중]\n",
    "plt.figure(figsize=(7, 7))\n",
    "plt.scatter(data['제한하중'],data['조정속도'], color = colors_1)\n",
    "plt.xlabel('제한하중')\n",
    "plt.ylabel('조정속도')\n",
    "plt.title('빨간색은 불량')\n",
    "plt.show"
   ]
  },
  {
   "cell_type": "code",
   "execution_count": 30,
   "id": "dde33b79",
   "metadata": {},
   "outputs": [
    {
     "data": {
      "text/plain": [
       "<function matplotlib.pyplot.show(close=None, block=None)>"
      ]
     },
     "execution_count": 30,
     "metadata": {},
     "output_type": "execute_result"
    },
    {
     "data": {
      "image/png": "[encoded data removed]",
      "text/plain": [
       "<Figure size 504x504 with 1 Axes>"
      ]
     },
     "metadata": {
      "needs_background": "light"
     },
     "output_type": "display_data"
    }
   ],
   "source": [
    "colors_1 = ['red' if x >= 1700 else 'blue' for x in data.실제하중]\n",
    "plt.figure(figsize=(7, 7))\n",
    "plt.scatter(data['제한하중'],data['불량여부'], color = colors_1)\n",
    "plt.xlabel('제한하중')\n",
    "plt.ylabel('불량여부')\n",
    "plt.title('빨간색은 불량')\n",
    "plt.show"
   ]
  },
  {
   "cell_type": "code",
   "execution_count": 31,
   "id": "6347b91a",
   "metadata": {},
   "outputs": [
    {
     "data": {
      "text/plain": [
       "<function matplotlib.pyplot.show(close=None, block=None)>"
      ]
     },
     "execution_count": 31,
     "metadata": {},
     "output_type": "execute_result"
    },
    {
     "data": {
      "image/png": "[encoded data removed]",
      "text/plain": [
       "<Figure size 504x504 with 1 Axes>"
      ]
     },
     "metadata": {
      "needs_background": "light"
     },
     "output_type": "display_data"
    }
   ],
   "source": [
    "colors_1 = ['red' if x >= 1700 else 'blue' for x in data.실제하중]\n",
    "plt.figure(figsize=(7, 7))\n",
    "plt.scatter(data['조정속도'],data['불량여부'], color = colors_1)\n",
    "plt.xlabel('조정속도')\n",
    "plt.ylabel('불량여부')\n",
    "plt.title('빨간색은 불량')\n",
    "plt.show"
   ]
  },
  {
   "cell_type": "code",
   "execution_count": 32,
   "id": "b26f52ae",
   "metadata": {},
   "outputs": [
    {
     "data": {
      "text/plain": [
       "<function matplotlib.pyplot.show(close=None, block=None)>"
      ]
     },
     "execution_count": 32,
     "metadata": {},
     "output_type": "execute_result"
    },
    {
     "data": {
      "image/png": "[encoded data removed]",
      "text/plain": [
       "<Figure size 504x504 with 1 Axes>"
      ]
     },
     "metadata": {
      "needs_background": "light"
     },
     "output_type": "display_data"
    }
   ],
   "source": [
    "colors_1 = ['red' if x >= 1700 else 'blue' for x in data.실제하중]\n",
    "plt.figure(figsize=(7, 7))\n",
    "plt.scatter(data['감속거리'],data['불량여부'], color = colors_1)\n",
    "plt.xlabel('감속거리')\n",
    "plt.ylabel('불량여부')\n",
    "plt.title('빨간색은 불량')\n",
    "plt.show"
   ]
  },
  {
   "cell_type": "code",
   "execution_count": 33,
   "id": "be209803",
   "metadata": {},
   "outputs": [
    {
     "data": {
      "text/plain": [
       "<function matplotlib.pyplot.show(close=None, block=None)>"
      ]
     },
     "execution_count": 33,
     "metadata": {},
     "output_type": "execute_result"
    },
    {
     "data": {
      "image/png": "[encoded data removed]",
      "text/plain": [
       "<Figure size 504x504 with 1 Axes>"
      ]
     },
     "metadata": {
      "needs_background": "light"
     },
     "output_type": "display_data"
    }
   ],
   "source": [
    "colors_1 = ['red' if x >= 1700 else 'blue' for x in data.실제하중]\n",
    "plt.figure(figsize=(7, 7))\n",
    "plt.scatter(data['선명도'],data['불량여부'], color = colors_1)\n",
    "plt.xlabel('선명도')\n",
    "plt.ylabel('불량여부')\n",
    "plt.title('빨간색은 불량')\n",
    "plt.show"
   ]
  },
  {
   "cell_type": "code",
   "execution_count": 34,
   "id": "ca4eea2c",
   "metadata": {},
   "outputs": [
    {
     "data": {
      "text/plain": [
       "<function matplotlib.pyplot.show(close=None, block=None)>"
      ]
     },
     "execution_count": 34,
     "metadata": {},
     "output_type": "execute_result"
    },
    {
     "data": {
      "image/png": "[encoded data removed]",
      "text/plain": [
       "<Figure size 504x504 with 1 Axes>"
      ]
     },
     "metadata": {
      "needs_background": "light"
     },
     "output_type": "display_data"
    }
   ],
   "source": [
    "colors_1 = ['red' if x >= 1700 else 'blue' for x in data.실제하중]\n",
    "plt.figure(figsize=(7, 7))\n",
    "plt.scatter(data['실제하중'],data['불량여부'], color = colors_1)\n",
    "plt.xlabel('실제하중')\n",
    "plt.ylabel('불량여부')\n",
    "plt.title('빨간색은 불량')\n",
    "plt.show"
   ]
  },
  {
   "cell_type": "code",
   "execution_count": 35,
   "id": "b81bc3b3",
   "metadata": {},
   "outputs": [
    {
     "data": {
      "text/html": [
       "<div>\n",
       "<style scoped>\n",
       "    .dataframe tbody tr th:only-of-type {\n",
       "        vertical-align: middle;\n",
       "    }\n",
       "\n",
       "    .dataframe tbody tr th {\n",
       "        vertical-align: top;\n",
       "    }\n",
       "\n",
       "    .dataframe thead th {\n",
       "        text-align: right;\n",
       "    }\n",
       "</style>\n",
       "<table border=\"1\" class=\"dataframe\">\n",
       "  <thead>\n",
       "    <tr style=\"text-align: right;\">\n",
       "      <th></th>\n",
       "      <th>제한하중</th>\n",
       "      <th>조정속도</th>\n",
       "      <th>감속거리</th>\n",
       "      <th>실제하중</th>\n",
       "      <th>선명도</th>\n",
       "      <th>불량여부</th>\n",
       "    </tr>\n",
       "  </thead>\n",
       "  <tbody>\n",
       "    <tr>\n",
       "      <th>count</th>\n",
       "      <td>39.000000</td>\n",
       "      <td>39.000000</td>\n",
       "      <td>39.000000</td>\n",
       "      <td>39.000000</td>\n",
       "      <td>39.000000</td>\n",
       "      <td>39.000000</td>\n",
       "    </tr>\n",
       "    <tr>\n",
       "      <th>mean</th>\n",
       "      <td>728.205128</td>\n",
       "      <td>15.020256</td>\n",
       "      <td>32.435897</td>\n",
       "      <td>1053.384615</td>\n",
       "      <td>42.996923</td>\n",
       "      <td>0.846154</td>\n",
       "    </tr>\n",
       "    <tr>\n",
       "      <th>std</th>\n",
       "      <td>338.688428</td>\n",
       "      <td>19.900792</td>\n",
       "      <td>48.328805</td>\n",
       "      <td>508.864247</td>\n",
       "      <td>9.959378</td>\n",
       "      <td>0.365518</td>\n",
       "    </tr>\n",
       "    <tr>\n",
       "      <th>min</th>\n",
       "      <td>100.000000</td>\n",
       "      <td>1.010000</td>\n",
       "      <td>1.000000</td>\n",
       "      <td>108.000000</td>\n",
       "      <td>20.730000</td>\n",
       "      <td>0.000000</td>\n",
       "    </tr>\n",
       "    <tr>\n",
       "      <th>25%</th>\n",
       "      <td>400.000000</td>\n",
       "      <td>1.010000</td>\n",
       "      <td>13.000000</td>\n",
       "      <td>675.000000</td>\n",
       "      <td>39.995000</td>\n",
       "      <td>1.000000</td>\n",
       "    </tr>\n",
       "    <tr>\n",
       "      <th>50%</th>\n",
       "      <td>1000.000000</td>\n",
       "      <td>5.000000</td>\n",
       "      <td>13.000000</td>\n",
       "      <td>1164.000000</td>\n",
       "      <td>42.170000</td>\n",
       "      <td>1.000000</td>\n",
       "    </tr>\n",
       "    <tr>\n",
       "      <th>75%</th>\n",
       "      <td>1000.000000</td>\n",
       "      <td>15.000000</td>\n",
       "      <td>17.500000</td>\n",
       "      <td>1313.500000</td>\n",
       "      <td>49.755000</td>\n",
       "      <td>1.000000</td>\n",
       "    </tr>\n",
       "    <tr>\n",
       "      <th>max</th>\n",
       "      <td>1000.000000</td>\n",
       "      <td>50.000000</td>\n",
       "      <td>200.000000</td>\n",
       "      <td>1885.000000</td>\n",
       "      <td>58.950000</td>\n",
       "      <td>1.000000</td>\n",
       "    </tr>\n",
       "  </tbody>\n",
       "</table>\n",
       "</div>"
      ],
      "text/plain": [
       "              제한하중       조정속도        감속거리         실제하중        선명도       불량여부\n",
       "count    39.000000  39.000000   39.000000    39.000000  39.000000  39.000000\n",
       "mean    728.205128  15.020256   32.435897  1053.384615  42.996923   0.846154\n",
       "std     338.688428  19.900792   48.328805   508.864247   9.959378   0.365518\n",
       "min     100.000000   1.010000    1.000000   108.000000  20.730000   0.000000\n",
       "25%     400.000000   1.010000   13.000000   675.000000  39.995000   1.000000\n",
       "50%    1000.000000   5.000000   13.000000  1164.000000  42.170000   1.000000\n",
       "75%    1000.000000  15.000000   17.500000  1313.500000  49.755000   1.000000\n",
       "max    1000.000000  50.000000  200.000000  1885.000000  58.950000   1.000000"
      ]
     },
     "execution_count": 35,
     "metadata": {},
     "output_type": "execute_result"
    }
   ],
   "source": [
    "data.describe()"
   ]
  },
  {
   "cell_type": "code",
   "execution_count": 36,
   "id": "b48adb58",
   "metadata": {},
   "outputs": [
    {
     "name": "stdout",
     "output_type": "stream",
     "text": [
      "제한하중 : 10개의 다른값\n",
      "조정속도 : 7개의 다른값\n",
      "감속거리 : 10개의 다른값\n",
      "실제하중 : 37개의 다른값\n",
      "선명도 : 39개의 다른값\n",
      "불량여부 : 2개의 다른값\n"
     ]
    }
   ],
   "source": [
    "print(\"제한하중 : {0}개의 다른값\".format(data.제한하중.nunique()))\n",
    "print(\"조정속도 : {0}개의 다른값\".format(data.조정속도.nunique()))\n",
    "print(\"감속거리 : {0}개의 다른값\".format(data.감속거리.nunique()))\n",
    "print(\"실제하중 : {0}개의 다른값\".format(data.실제하중.nunique()))\n",
    "print(\"선명도 : {0}개의 다른값\".format(data.선명도.nunique()))\n",
    "print(\"불량여부 : {0}개의 다른값\".format(data.불량여부.nunique()))"
   ]
  },
  {
   "cell_type": "code",
   "execution_count": 37,
   "id": "4ed33e8a",
   "metadata": {},
   "outputs": [
    {
     "data": {
      "image/png": "[encoded data removed]",
      "text/plain": [
       "<Figure size 432x288 with 1 Axes>"
      ]
     },
     "metadata": {
      "needs_background": "light"
     },
     "output_type": "display_data"
    }
   ],
   "source": [
    "colors_1 = ['red' if x >= 1700 else 'blue' for x in data.실제하중]\n",
    "plt.scatter(data.선명도, data.제한하중,color = colors_1)\n",
    "plt.xlabel(\"선명도\")\n",
    "plt.ylabel(\"제한하중\")\n",
    "plt.title(\"빨간색 : 불량\")\n",
    "plt.axvline(48 ,color = 'black', linestyle = ':')\n",
    "plt.hlines(y = 130, xmin = 20, xmax = 60, color = 'black', linestyle = ':')\n",
    "plt.hlines(y = 970, xmin = 20, xmax = 60, color = 'black', linestyle = ':')\n",
    "plt.show()"
   ]
  },
  {
   "cell_type": "code",
   "execution_count": 38,
   "id": "5a8918c7",
   "metadata": {},
   "outputs": [
    {
     "name": "stdout",
     "output_type": "stream",
     "text": [
      "Requirement already satisfied: graphviz in e:\\users\\bo\\anaconda3\\lib\\site-packages (0.16)\n"
     ]
    }
   ],
   "source": [
    "#!pip install pydotplus\n",
    "!pip install graphviz"
   ]
  },
  {
   "cell_type": "code",
   "execution_count": 39,
   "id": "dea0f590",
   "metadata": {},
   "outputs": [
    {
     "name": "stdout",
     "output_type": "stream",
     "text": [
      "variable importance :  {'실제하중': 0.0, '제한하중': 0.0, '조정속도': 0.0, '감속거리': 0.0, '선명도': 0.0}\n"
     ]
    }
   ],
   "source": [
    "from sklearn.tree import DecisionTreeRegressor\n",
    "\n",
    "dt1 = DecisionTreeRegressor(min_samples_split = 50, max_depth=3, min_samples_leaf = 10, random_state = 99)\n",
    "\n",
    "dtfeatures = ['실제하중','제한하중','조정속도','감속거리','선명도']\n",
    "tgt = '불량여부'\n",
    "\n",
    "dfdt = data\n",
    "\n",
    "dt1.fit(dfdt[dtfeatures], dfdt[tgt])\n",
    "\n",
    "from sklearn import tree\n",
    "from IPython.display import Image\n",
    "import pydotplus\n",
    "import graphviz\n",
    "\n",
    "\n",
    "print('variable importance : ', dict(zip(dfdt[dtfeatures].columns, dt1.feature_importances_)))\n",
    "\n",
    "dot_data = tree.export_graphviz(dt1, out_file=None, feature_names = dtfeatures)\n",
    "\n",
    "graph = pydotplus.graph_from_dot_data(dot_data)\n",
    "\n",
    "#Image(graph.create_png())"
   ]
  },
  {
   "cell_type": "code",
   "execution_count": 40,
   "id": "bcbe06cd",
   "metadata": {},
   "outputs": [],
   "source": [
    "#!pip install catboost"
   ]
  },
  {
   "cell_type": "code",
   "execution_count": 41,
   "id": "271e5699",
   "metadata": {},
   "outputs": [
    {
     "name": "stdout",
     "output_type": "stream",
     "text": [
      "0:\tlearn: 0.0112303\ttest: 0.0112303\tbest: 0.0112303 (0)\ttotal: 140ms\tremaining: 41.8s\n",
      "1:\tlearn: 0.0214812\ttest: 0.0214812\tbest: 0.0214812 (1)\ttotal: 140ms\tremaining: 20.9s\n",
      "2:\tlearn: 0.0308170\ttest: 0.0308170\tbest: 0.0308170 (2)\ttotal: 141ms\tremaining: 13.9s\n",
      "3:\tlearn: 0.0423436\ttest: 0.0423436\tbest: 0.0423436 (3)\ttotal: 141ms\tremaining: 10.4s\n",
      "4:\tlearn: 0.0514871\ttest: 0.0514871\tbest: 0.0514871 (4)\ttotal: 141ms\tremaining: 8.34s\n",
      "5:\tlearn: 0.0605903\ttest: 0.0605903\tbest: 0.0605903 (5)\ttotal: 142ms\tremaining: 6.95s\n",
      "6:\tlearn: 0.0696378\ttest: 0.0696378\tbest: 0.0696378 (6)\ttotal: 142ms\tremaining: 5.95s\n",
      "7:\tlearn: 0.0783003\ttest: 0.0783003\tbest: 0.0783003 (7)\ttotal: 142ms\tremaining: 5.2s\n",
      "8:\tlearn: 0.0885326\ttest: 0.0885326\tbest: 0.0885326 (8)\ttotal: 143ms\tremaining: 4.62s\n",
      "9:\tlearn: 0.1010586\ttest: 0.1010586\tbest: 0.1010586 (9)\ttotal: 143ms\tremaining: 4.15s\n",
      "10:\tlearn: 0.1110776\ttest: 0.1110776\tbest: 0.1110776 (10)\ttotal: 144ms\tremaining: 3.77s\n",
      "11:\tlearn: 0.1209576\ttest: 0.1209576\tbest: 0.1209576 (11)\ttotal: 144ms\tremaining: 3.45s\n",
      "12:\tlearn: 0.1307306\ttest: 0.1307306\tbest: 0.1307306 (12)\ttotal: 144ms\tremaining: 3.19s\n",
      "13:\tlearn: 0.1408223\ttest: 0.1408223\tbest: 0.1408223 (13)\ttotal: 145ms\tremaining: 2.95s\n",
      "14:\tlearn: 0.1508475\ttest: 0.1508475\tbest: 0.1508475 (14)\ttotal: 145ms\tremaining: 2.75s\n",
      "15:\tlearn: 0.1590235\ttest: 0.1590235\tbest: 0.1590235 (15)\ttotal: 145ms\tremaining: 2.58s\n",
      "16:\tlearn: 0.1683851\ttest: 0.1683851\tbest: 0.1683851 (16)\ttotal: 146ms\tremaining: 2.42s\n",
      "17:\tlearn: 0.1764229\ttest: 0.1764229\tbest: 0.1764229 (17)\ttotal: 146ms\tremaining: 2.29s\n",
      "18:\tlearn: 0.1876739\ttest: 0.1876739\tbest: 0.1876739 (18)\ttotal: 146ms\tremaining: 2.16s\n",
      "19:\tlearn: 0.1987987\ttest: 0.1987987\tbest: 0.1987987 (19)\ttotal: 147ms\tremaining: 2.05s\n",
      "20:\tlearn: 0.2076350\ttest: 0.2076350\tbest: 0.2076350 (20)\ttotal: 147ms\tremaining: 1.95s\n",
      "21:\tlearn: 0.2152459\ttest: 0.2152459\tbest: 0.2152459 (21)\ttotal: 147ms\tremaining: 1.86s\n",
      "22:\tlearn: 0.2223430\ttest: 0.2223430\tbest: 0.2223430 (22)\ttotal: 148ms\tremaining: 1.78s\n",
      "23:\tlearn: 0.2307697\ttest: 0.2307697\tbest: 0.2307697 (23)\ttotal: 148ms\tremaining: 1.7s\n",
      "24:\tlearn: 0.2393833\ttest: 0.2393833\tbest: 0.2393833 (24)\ttotal: 148ms\tremaining: 1.63s\n",
      "25:\tlearn: 0.2498088\ttest: 0.2498088\tbest: 0.2498088 (25)\ttotal: 149ms\tremaining: 1.57s\n",
      "26:\tlearn: 0.2600422\ttest: 0.2600422\tbest: 0.2600422 (26)\ttotal: 149ms\tremaining: 1.51s\n",
      "27:\tlearn: 0.2681998\ttest: 0.2681998\tbest: 0.2681998 (27)\ttotal: 149ms\tremaining: 1.45s\n",
      "28:\tlearn: 0.2764247\ttest: 0.2764247\tbest: 0.2764247 (28)\ttotal: 150ms\tremaining: 1.4s\n",
      "29:\tlearn: 0.2861301\ttest: 0.2861301\tbest: 0.2861301 (29)\ttotal: 150ms\tremaining: 1.35s\n",
      "30:\tlearn: 0.2940597\ttest: 0.2940597\tbest: 0.2940597 (30)\ttotal: 151ms\tremaining: 1.31s\n",
      "31:\tlearn: 0.3023041\ttest: 0.3023041\tbest: 0.3023041 (31)\ttotal: 151ms\tremaining: 1.26s\n",
      "32:\tlearn: 0.3089752\ttest: 0.3089752\tbest: 0.3089752 (32)\ttotal: 151ms\tremaining: 1.22s\n",
      "33:\tlearn: 0.3164302\ttest: 0.3164302\tbest: 0.3164302 (33)\ttotal: 152ms\tremaining: 1.19s\n",
      "34:\tlearn: 0.3244900\ttest: 0.3244900\tbest: 0.3244900 (34)\ttotal: 152ms\tremaining: 1.15s\n",
      "35:\tlearn: 0.3317782\ttest: 0.3317782\tbest: 0.3317782 (35)\ttotal: 152ms\tremaining: 1.12s\n",
      "36:\tlearn: 0.3389554\ttest: 0.3389554\tbest: 0.3389554 (36)\ttotal: 153ms\tremaining: 1.08s\n",
      "37:\tlearn: 0.3479466\ttest: 0.3479466\tbest: 0.3479466 (37)\ttotal: 153ms\tremaining: 1.05s\n",
      "38:\tlearn: 0.3553787\ttest: 0.3553787\tbest: 0.3553787 (38)\ttotal: 153ms\tremaining: 1.02s\n",
      "39:\tlearn: 0.3641482\ttest: 0.3641482\tbest: 0.3641482 (39)\ttotal: 154ms\tremaining: 998ms\n",
      "40:\tlearn: 0.3710965\ttest: 0.3710965\tbest: 0.3710965 (40)\ttotal: 154ms\tremaining: 972ms\n",
      "41:\tlearn: 0.3779177\ttest: 0.3779177\tbest: 0.3779177 (41)\ttotal: 154ms\tremaining: 947ms\n",
      "42:\tlearn: 0.3863713\ttest: 0.3863713\tbest: 0.3863713 (42)\ttotal: 155ms\tremaining: 924ms\n",
      "43:\tlearn: 0.3930224\ttest: 0.3930224\tbest: 0.3930224 (43)\ttotal: 155ms\tremaining: 901ms\n",
      "44:\tlearn: 0.4012769\ttest: 0.4012769\tbest: 0.4012769 (44)\ttotal: 155ms\tremaining: 880ms\n",
      "45:\tlearn: 0.4077680\ttest: 0.4077680\tbest: 0.4077680 (45)\ttotal: 156ms\tremaining: 859ms\n",
      "46:\tlearn: 0.4158683\ttest: 0.4158683\tbest: 0.4158683 (46)\ttotal: 156ms\tremaining: 839ms\n",
      "47:\tlearn: 0.4208704\ttest: 0.4208704\tbest: 0.4208704 (47)\ttotal: 156ms\tremaining: 820ms\n",
      "48:\tlearn: 0.4263552\ttest: 0.4263552\tbest: 0.4263552 (48)\ttotal: 157ms\tremaining: 802ms\n",
      "49:\tlearn: 0.4326304\ttest: 0.4326304\tbest: 0.4326304 (49)\ttotal: 157ms\tremaining: 785ms\n",
      "50:\tlearn: 0.4402702\ttest: 0.4402702\tbest: 0.4402702 (50)\ttotal: 157ms\tremaining: 768ms\n",
      "51:\tlearn: 0.4468509\ttest: 0.4468509\tbest: 0.4468509 (51)\ttotal: 158ms\tremaining: 752ms\n",
      "52:\tlearn: 0.4508152\ttest: 0.4508152\tbest: 0.4508152 (52)\ttotal: 158ms\tremaining: 736ms\n",
      "53:\tlearn: 0.4559352\ttest: 0.4559352\tbest: 0.4559352 (53)\ttotal: 158ms\tremaining: 721ms\n",
      "54:\tlearn: 0.4601866\ttest: 0.4601866\tbest: 0.4601866 (54)\ttotal: 159ms\tremaining: 706ms\n",
      "55:\tlearn: 0.4644933\ttest: 0.4644933\tbest: 0.4644933 (55)\ttotal: 159ms\tremaining: 693ms\n",
      "56:\tlearn: 0.4688314\ttest: 0.4688314\tbest: 0.4688314 (56)\ttotal: 159ms\tremaining: 679ms\n",
      "57:\tlearn: 0.4746331\ttest: 0.4746331\tbest: 0.4746331 (57)\ttotal: 160ms\tremaining: 666ms\n",
      "58:\tlearn: 0.4817491\ttest: 0.4817491\tbest: 0.4817491 (58)\ttotal: 160ms\tremaining: 654ms\n",
      "59:\tlearn: 0.4887977\ttest: 0.4887977\tbest: 0.4887977 (59)\ttotal: 160ms\tremaining: 642ms\n",
      "60:\tlearn: 0.4957006\ttest: 0.4957006\tbest: 0.4957006 (60)\ttotal: 161ms\tremaining: 630ms\n",
      "61:\tlearn: 0.5011055\ttest: 0.5011055\tbest: 0.5011055 (61)\ttotal: 161ms\tremaining: 619ms\n",
      "62:\tlearn: 0.5056859\ttest: 0.5056859\tbest: 0.5056859 (62)\ttotal: 162ms\tremaining: 608ms\n",
      "63:\tlearn: 0.5123510\ttest: 0.5123510\tbest: 0.5123510 (63)\ttotal: 162ms\tremaining: 597ms\n",
      "64:\tlearn: 0.5178999\ttest: 0.5178999\tbest: 0.5178999 (64)\ttotal: 162ms\tremaining: 587ms\n",
      "65:\tlearn: 0.5234967\ttest: 0.5234967\tbest: 0.5234967 (65)\ttotal: 163ms\tremaining: 576ms\n",
      "66:\tlearn: 0.5279424\ttest: 0.5279424\tbest: 0.5279424 (66)\ttotal: 163ms\tremaining: 567ms\n",
      "67:\tlearn: 0.5333664\ttest: 0.5333664\tbest: 0.5333664 (67)\ttotal: 163ms\tremaining: 557ms\n",
      "68:\tlearn: 0.5371328\ttest: 0.5371328\tbest: 0.5371328 (68)\ttotal: 164ms\tremaining: 548ms\n",
      "69:\tlearn: 0.5421603\ttest: 0.5421603\tbest: 0.5421603 (69)\ttotal: 164ms\tremaining: 539ms\n",
      "70:\tlearn: 0.5483128\ttest: 0.5483128\tbest: 0.5483128 (70)\ttotal: 164ms\tremaining: 530ms\n",
      "71:\tlearn: 0.5535399\ttest: 0.5535399\tbest: 0.5535399 (71)\ttotal: 165ms\tremaining: 521ms\n",
      "72:\tlearn: 0.5595814\ttest: 0.5595814\tbest: 0.5595814 (72)\ttotal: 165ms\tremaining: 513ms\n",
      "73:\tlearn: 0.5640547\ttest: 0.5640547\tbest: 0.5640547 (73)\ttotal: 165ms\tremaining: 505ms\n",
      "74:\tlearn: 0.5683595\ttest: 0.5683595\tbest: 0.5683595 (74)\ttotal: 166ms\tremaining: 497ms\n",
      "75:\tlearn: 0.5728818\ttest: 0.5728818\tbest: 0.5728818 (75)\ttotal: 166ms\tremaining: 489ms\n",
      "76:\tlearn: 0.5767853\ttest: 0.5767853\tbest: 0.5767853 (76)\ttotal: 166ms\tremaining: 482ms\n",
      "77:\tlearn: 0.5814230\ttest: 0.5814230\tbest: 0.5814230 (77)\ttotal: 167ms\tremaining: 475ms\n",
      "78:\tlearn: 0.5860097\ttest: 0.5860097\tbest: 0.5860097 (78)\ttotal: 167ms\tremaining: 467ms\n",
      "79:\tlearn: 0.5904961\ttest: 0.5904961\tbest: 0.5904961 (79)\ttotal: 167ms\tremaining: 460ms\n",
      "80:\tlearn: 0.5951696\ttest: 0.5951696\tbest: 0.5951696 (80)\ttotal: 168ms\tremaining: 454ms\n",
      "81:\tlearn: 0.5995774\ttest: 0.5995774\tbest: 0.5995774 (81)\ttotal: 168ms\tremaining: 447ms\n",
      "82:\tlearn: 0.6036469\ttest: 0.6036469\tbest: 0.6036469 (82)\ttotal: 169ms\tremaining: 441ms\n",
      "83:\tlearn: 0.6070407\ttest: 0.6070407\tbest: 0.6070407 (83)\ttotal: 169ms\tremaining: 434ms\n",
      "84:\tlearn: 0.6122650\ttest: 0.6122650\tbest: 0.6122650 (84)\ttotal: 169ms\tremaining: 428ms\n",
      "85:\tlearn: 0.6174806\ttest: 0.6174806\tbest: 0.6174806 (85)\ttotal: 170ms\tremaining: 422ms\n",
      "86:\tlearn: 0.6216564\ttest: 0.6216564\tbest: 0.6216564 (86)\ttotal: 170ms\tremaining: 416ms\n",
      "87:\tlearn: 0.6266829\ttest: 0.6266829\tbest: 0.6266829 (87)\ttotal: 170ms\tremaining: 410ms\n",
      "88:\tlearn: 0.6309755\ttest: 0.6309755\tbest: 0.6309755 (88)\ttotal: 171ms\tremaining: 405ms\n",
      "89:\tlearn: 0.6349566\ttest: 0.6349566\tbest: 0.6349566 (89)\ttotal: 171ms\tremaining: 399ms\n",
      "90:\tlearn: 0.6399032\ttest: 0.6399032\tbest: 0.6399032 (90)\ttotal: 171ms\tremaining: 393ms\n",
      "91:\tlearn: 0.6437445\ttest: 0.6437445\tbest: 0.6437445 (91)\ttotal: 172ms\tremaining: 388ms\n",
      "92:\tlearn: 0.6474648\ttest: 0.6474648\tbest: 0.6474648 (92)\ttotal: 172ms\tremaining: 383ms\n",
      "93:\tlearn: 0.6506149\ttest: 0.6506149\tbest: 0.6506149 (93)\ttotal: 172ms\tremaining: 378ms\n",
      "94:\tlearn: 0.6546299\ttest: 0.6546299\tbest: 0.6546299 (94)\ttotal: 173ms\tremaining: 373ms\n",
      "95:\tlearn: 0.6592180\ttest: 0.6592180\tbest: 0.6592180 (95)\ttotal: 173ms\tremaining: 368ms\n",
      "96:\tlearn: 0.6621986\ttest: 0.6621986\tbest: 0.6621986 (96)\ttotal: 173ms\tremaining: 363ms\n",
      "97:\tlearn: 0.6652189\ttest: 0.6652189\tbest: 0.6652189 (97)\ttotal: 174ms\tremaining: 358ms\n",
      "98:\tlearn: 0.6687744\ttest: 0.6687744\tbest: 0.6687744 (98)\ttotal: 174ms\tremaining: 353ms\n",
      "99:\tlearn: 0.6723276\ttest: 0.6723276\tbest: 0.6723276 (99)\ttotal: 174ms\tremaining: 349ms\n",
      "100:\tlearn: 0.6760581\ttest: 0.6760581\tbest: 0.6760581 (100)\ttotal: 175ms\tremaining: 344ms\n",
      "101:\tlearn: 0.6796745\ttest: 0.6796745\tbest: 0.6796745 (101)\ttotal: 175ms\tremaining: 340ms\n",
      "102:\tlearn: 0.6839924\ttest: 0.6839924\tbest: 0.6839924 (102)\ttotal: 175ms\tremaining: 336ms\n",
      "103:\tlearn: 0.6875045\ttest: 0.6875045\tbest: 0.6875045 (103)\ttotal: 176ms\tremaining: 331ms\n",
      "104:\tlearn: 0.6900277\ttest: 0.6900277\tbest: 0.6900277 (104)\ttotal: 176ms\tremaining: 327ms\n",
      "105:\tlearn: 0.6935116\ttest: 0.6935116\tbest: 0.6935116 (105)\ttotal: 176ms\tremaining: 323ms\n",
      "106:\tlearn: 0.6967886\ttest: 0.6967886\tbest: 0.6967886 (106)\ttotal: 177ms\tremaining: 319ms\n",
      "107:\tlearn: 0.7000149\ttest: 0.7000149\tbest: 0.7000149 (107)\ttotal: 177ms\tremaining: 315ms\n",
      "108:\tlearn: 0.7040485\ttest: 0.7040485\tbest: 0.7040485 (108)\ttotal: 177ms\tremaining: 311ms\n",
      "109:\tlearn: 0.7080121\ttest: 0.7080121\tbest: 0.7080121 (109)\ttotal: 178ms\tremaining: 307ms\n",
      "110:\tlearn: 0.7109026\ttest: 0.7109026\tbest: 0.7109026 (110)\ttotal: 178ms\tremaining: 303ms\n",
      "111:\tlearn: 0.7147806\ttest: 0.7147806\tbest: 0.7147806 (111)\ttotal: 178ms\tremaining: 299ms\n",
      "112:\tlearn: 0.7185535\ttest: 0.7185535\tbest: 0.7185535 (112)\ttotal: 179ms\tremaining: 296ms\n",
      "113:\tlearn: 0.7215357\ttest: 0.7215357\tbest: 0.7215357 (113)\ttotal: 179ms\tremaining: 292ms\n",
      "114:\tlearn: 0.7252613\ttest: 0.7252613\tbest: 0.7252613 (114)\ttotal: 179ms\tremaining: 289ms\n",
      "115:\tlearn: 0.7274599\ttest: 0.7274599\tbest: 0.7274599 (115)\ttotal: 180ms\tremaining: 285ms\n",
      "116:\tlearn: 0.7301085\ttest: 0.7301085\tbest: 0.7301085 (116)\ttotal: 180ms\tremaining: 282ms\n",
      "117:\tlearn: 0.7328301\ttest: 0.7328301\tbest: 0.7328301 (117)\ttotal: 180ms\tremaining: 278ms\n",
      "118:\tlearn: 0.7356892\ttest: 0.7356892\tbest: 0.7356892 (118)\ttotal: 181ms\tremaining: 275ms\n",
      "119:\tlearn: 0.7384482\ttest: 0.7384482\tbest: 0.7384482 (119)\ttotal: 181ms\tremaining: 272ms\n",
      "120:\tlearn: 0.7407385\ttest: 0.7407385\tbest: 0.7407385 (120)\ttotal: 181ms\tremaining: 268ms\n",
      "121:\tlearn: 0.7429495\ttest: 0.7429495\tbest: 0.7429495 (121)\ttotal: 182ms\tremaining: 265ms\n",
      "122:\tlearn: 0.7448682\ttest: 0.7448682\tbest: 0.7448682 (122)\ttotal: 182ms\tremaining: 262ms\n",
      "123:\tlearn: 0.7470800\ttest: 0.7470800\tbest: 0.7470800 (123)\ttotal: 182ms\tremaining: 259ms\n",
      "124:\tlearn: 0.7496262\ttest: 0.7496262\tbest: 0.7496262 (124)\ttotal: 183ms\tremaining: 256ms\n",
      "125:\tlearn: 0.7523068\ttest: 0.7523068\tbest: 0.7523068 (125)\ttotal: 183ms\tremaining: 253ms\n",
      "126:\tlearn: 0.7555912\ttest: 0.7555912\tbest: 0.7555912 (126)\ttotal: 183ms\tremaining: 250ms\n",
      "127:\tlearn: 0.7581766\ttest: 0.7581766\tbest: 0.7581766 (127)\ttotal: 184ms\tremaining: 247ms\n",
      "128:\tlearn: 0.7610155\ttest: 0.7610155\tbest: 0.7610155 (128)\ttotal: 184ms\tremaining: 244ms\n",
      "129:\tlearn: 0.7636237\ttest: 0.7636237\tbest: 0.7636237 (129)\ttotal: 184ms\tremaining: 241ms\n",
      "130:\tlearn: 0.7658329\ttest: 0.7658329\tbest: 0.7658329 (130)\ttotal: 185ms\tremaining: 238ms\n",
      "131:\tlearn: 0.7676894\ttest: 0.7676894\tbest: 0.7676894 (131)\ttotal: 185ms\tremaining: 235ms\n",
      "132:\tlearn: 0.7697298\ttest: 0.7697298\tbest: 0.7697298 (132)\ttotal: 185ms\tremaining: 233ms\n",
      "133:\tlearn: 0.7727859\ttest: 0.7727859\tbest: 0.7727859 (133)\ttotal: 186ms\tremaining: 230ms\n",
      "134:\tlearn: 0.7747482\ttest: 0.7747482\tbest: 0.7747482 (134)\ttotal: 186ms\tremaining: 227ms\n",
      "135:\tlearn: 0.7770813\ttest: 0.7770813\tbest: 0.7770813 (135)\ttotal: 186ms\tremaining: 225ms\n",
      "136:\tlearn: 0.7794517\ttest: 0.7794517\tbest: 0.7794517 (136)\ttotal: 187ms\tremaining: 222ms\n",
      "137:\tlearn: 0.7809138\ttest: 0.7809138\tbest: 0.7809138 (137)\ttotal: 187ms\tremaining: 220ms\n",
      "138:\tlearn: 0.7828363\ttest: 0.7828363\tbest: 0.7828363 (138)\ttotal: 187ms\tremaining: 217ms\n",
      "139:\tlearn: 0.7850885\ttest: 0.7850885\tbest: 0.7850885 (139)\ttotal: 188ms\tremaining: 215ms\n",
      "140:\tlearn: 0.7873400\ttest: 0.7873400\tbest: 0.7873400 (140)\ttotal: 188ms\tremaining: 212ms\n",
      "141:\tlearn: 0.7895458\ttest: 0.7895458\tbest: 0.7895458 (141)\ttotal: 188ms\tremaining: 210ms\n",
      "142:\tlearn: 0.7918960\ttest: 0.7918960\tbest: 0.7918960 (142)\ttotal: 189ms\tremaining: 207ms\n",
      "143:\tlearn: 0.7940553\ttest: 0.7940553\tbest: 0.7940553 (143)\ttotal: 189ms\tremaining: 205ms\n",
      "144:\tlearn: 0.7958482\ttest: 0.7958482\tbest: 0.7958482 (144)\ttotal: 189ms\tremaining: 203ms\n",
      "145:\tlearn: 0.7985378\ttest: 0.7985378\tbest: 0.7985378 (145)\ttotal: 190ms\tremaining: 200ms\n",
      "146:\tlearn: 0.8012127\ttest: 0.8012127\tbest: 0.8012127 (146)\ttotal: 190ms\tremaining: 198ms\n",
      "147:\tlearn: 0.8026608\ttest: 0.8026608\tbest: 0.8026608 (147)\ttotal: 190ms\tremaining: 196ms\n",
      "148:\tlearn: 0.8052813\ttest: 0.8052813\tbest: 0.8052813 (148)\ttotal: 191ms\tremaining: 193ms\n",
      "149:\tlearn: 0.8071066\ttest: 0.8071066\tbest: 0.8071066 (149)\ttotal: 191ms\tremaining: 191ms\n",
      "150:\tlearn: 0.8096441\ttest: 0.8096441\tbest: 0.8096441 (150)\ttotal: 191ms\tremaining: 189ms\n",
      "151:\tlearn: 0.8114346\ttest: 0.8114346\tbest: 0.8114346 (151)\ttotal: 192ms\tremaining: 187ms\n",
      "152:\tlearn: 0.8130793\ttest: 0.8130793\tbest: 0.8130793 (152)\ttotal: 192ms\tremaining: 185ms\n",
      "153:\tlearn: 0.8148234\ttest: 0.8148234\tbest: 0.8148234 (153)\ttotal: 192ms\tremaining: 182ms\n",
      "154:\tlearn: 0.8172733\ttest: 0.8172733\tbest: 0.8172733 (154)\ttotal: 193ms\tremaining: 180ms\n",
      "155:\tlearn: 0.8196910\ttest: 0.8196910\tbest: 0.8196910 (155)\ttotal: 193ms\tremaining: 178ms\n",
      "156:\tlearn: 0.8216581\ttest: 0.8216581\tbest: 0.8216581 (156)\ttotal: 193ms\tremaining: 176ms\n",
      "157:\tlearn: 0.8232607\ttest: 0.8232607\tbest: 0.8232607 (157)\ttotal: 194ms\tremaining: 174ms\n",
      "158:\tlearn: 0.8250925\ttest: 0.8250925\tbest: 0.8250925 (158)\ttotal: 194ms\tremaining: 172ms\n",
      "159:\tlearn: 0.8269442\ttest: 0.8269442\tbest: 0.8269442 (159)\ttotal: 194ms\tremaining: 170ms\n",
      "160:\tlearn: 0.8291936\ttest: 0.8291936\tbest: 0.8291936 (160)\ttotal: 195ms\tremaining: 168ms\n",
      "161:\tlearn: 0.8309419\ttest: 0.8309419\tbest: 0.8309419 (161)\ttotal: 195ms\tremaining: 166ms\n",
      "162:\tlearn: 0.8331630\ttest: 0.8331630\tbest: 0.8331630 (162)\ttotal: 195ms\tremaining: 164ms\n",
      "163:\tlearn: 0.8353558\ttest: 0.8353558\tbest: 0.8353558 (163)\ttotal: 196ms\tremaining: 162ms\n",
      "164:\tlearn: 0.8371135\ttest: 0.8371135\tbest: 0.8371135 (164)\ttotal: 196ms\tremaining: 160ms\n",
      "165:\tlearn: 0.8387819\ttest: 0.8387819\tbest: 0.8387819 (165)\ttotal: 196ms\tremaining: 158ms\n",
      "166:\tlearn: 0.8399155\ttest: 0.8399155\tbest: 0.8399155 (166)\ttotal: 197ms\tremaining: 157ms\n",
      "167:\tlearn: 0.8420196\ttest: 0.8420196\tbest: 0.8420196 (167)\ttotal: 197ms\tremaining: 155ms\n",
      "168:\tlearn: 0.8436389\ttest: 0.8436389\tbest: 0.8436389 (168)\ttotal: 197ms\tremaining: 153ms\n",
      "169:\tlearn: 0.8448236\ttest: 0.8448236\tbest: 0.8448236 (169)\ttotal: 198ms\tremaining: 151ms\n",
      "170:\tlearn: 0.8464361\ttest: 0.8464361\tbest: 0.8464361 (170)\ttotal: 198ms\tremaining: 149ms\n",
      "171:\tlearn: 0.8481040\ttest: 0.8481040\tbest: 0.8481040 (171)\ttotal: 198ms\tremaining: 148ms\n",
      "172:\tlearn: 0.8493983\ttest: 0.8493983\tbest: 0.8493983 (172)\ttotal: 199ms\tremaining: 146ms\n",
      "173:\tlearn: 0.8513641\ttest: 0.8513641\tbest: 0.8513641 (173)\ttotal: 199ms\tremaining: 144ms\n",
      "174:\tlearn: 0.8528921\ttest: 0.8528921\tbest: 0.8528921 (174)\ttotal: 199ms\tremaining: 142ms\n",
      "175:\tlearn: 0.8548196\ttest: 0.8548196\tbest: 0.8548196 (175)\ttotal: 200ms\tremaining: 141ms\n",
      "176:\tlearn: 0.8567213\ttest: 0.8567213\tbest: 0.8567213 (176)\ttotal: 200ms\tremaining: 139ms\n",
      "177:\tlearn: 0.8585941\ttest: 0.8585941\tbest: 0.8585941 (177)\ttotal: 200ms\tremaining: 137ms\n",
      "178:\tlearn: 0.8604262\ttest: 0.8604262\tbest: 0.8604262 (178)\ttotal: 201ms\tremaining: 136ms\n",
      "179:\tlearn: 0.8622635\ttest: 0.8622635\tbest: 0.8622635 (179)\ttotal: 201ms\tremaining: 134ms\n",
      "180:\tlearn: 0.8636785\ttest: 0.8636785\tbest: 0.8636785 (180)\ttotal: 201ms\tremaining: 132ms\n",
      "181:\tlearn: 0.8654630\ttest: 0.8654630\tbest: 0.8654630 (181)\ttotal: 202ms\tremaining: 131ms\n",
      "182:\tlearn: 0.8669155\ttest: 0.8669155\tbest: 0.8669155 (182)\ttotal: 202ms\tremaining: 129ms\n",
      "183:\tlearn: 0.8681770\ttest: 0.8681770\tbest: 0.8681770 (183)\ttotal: 202ms\tremaining: 127ms\n",
      "184:\tlearn: 0.8696091\ttest: 0.8696091\tbest: 0.8696091 (184)\ttotal: 203ms\tremaining: 126ms\n",
      "185:\tlearn: 0.8713128\ttest: 0.8713128\tbest: 0.8713128 (185)\ttotal: 203ms\tremaining: 124ms\n",
      "186:\tlearn: 0.8727078\ttest: 0.8727078\tbest: 0.8727078 (186)\ttotal: 203ms\tremaining: 123ms\n",
      "187:\tlearn: 0.8743552\ttest: 0.8743552\tbest: 0.8743552 (187)\ttotal: 204ms\tremaining: 121ms\n",
      "188:\tlearn: 0.8759900\ttest: 0.8759900\tbest: 0.8759900 (188)\ttotal: 204ms\tremaining: 120ms\n",
      "189:\tlearn: 0.8771250\ttest: 0.8771250\tbest: 0.8771250 (189)\ttotal: 204ms\tremaining: 118ms\n",
      "190:\tlearn: 0.8781250\ttest: 0.8781250\tbest: 0.8781250 (190)\ttotal: 205ms\tremaining: 117ms\n",
      "191:\tlearn: 0.8794150\ttest: 0.8794150\tbest: 0.8794150 (191)\ttotal: 205ms\tremaining: 115ms\n",
      "192:\tlearn: 0.8809816\ttest: 0.8809816\tbest: 0.8809816 (192)\ttotal: 205ms\tremaining: 114ms\n",
      "193:\tlearn: 0.8821916\ttest: 0.8821916\tbest: 0.8821916 (193)\ttotal: 206ms\tremaining: 112ms\n",
      "194:\tlearn: 0.8837135\ttest: 0.8837135\tbest: 0.8837135 (194)\ttotal: 206ms\tremaining: 111ms\n",
      "195:\tlearn: 0.8849100\ttest: 0.8849100\tbest: 0.8849100 (195)\ttotal: 206ms\tremaining: 109ms\n",
      "196:\tlearn: 0.8860889\ttest: 0.8860889\tbest: 0.8860889 (196)\ttotal: 207ms\tremaining: 108ms\n",
      "197:\tlearn: 0.8875645\ttest: 0.8875645\tbest: 0.8875645 (197)\ttotal: 207ms\tremaining: 107ms\n",
      "198:\tlearn: 0.8881556\ttest: 0.8881556\tbest: 0.8881556 (198)\ttotal: 207ms\tremaining: 105ms\n",
      "199:\tlearn: 0.8896007\ttest: 0.8896007\tbest: 0.8896007 (199)\ttotal: 208ms\tremaining: 104ms\n",
      "200:\tlearn: 0.8910263\ttest: 0.8910263\tbest: 0.8910263 (200)\ttotal: 208ms\tremaining: 102ms\n",
      "201:\tlearn: 0.8921216\ttest: 0.8921216\tbest: 0.8921216 (201)\ttotal: 208ms\tremaining: 101ms\n",
      "202:\tlearn: 0.8935197\ttest: 0.8935197\tbest: 0.8935197 (202)\ttotal: 209ms\tremaining: 99.8ms\n",
      "203:\tlearn: 0.8948919\ttest: 0.8948919\tbest: 0.8948919 (203)\ttotal: 209ms\tremaining: 98.4ms\n",
      "204:\tlearn: 0.8959539\ttest: 0.8959539\tbest: 0.8959539 (204)\ttotal: 209ms\tremaining: 97.1ms\n",
      "205:\tlearn: 0.8972967\ttest: 0.8972967\tbest: 0.8972967 (205)\ttotal: 210ms\tremaining: 95.7ms\n",
      "206:\tlearn: 0.8980031\ttest: 0.8980031\tbest: 0.8980031 (206)\ttotal: 210ms\tremaining: 94.4ms\n",
      "207:\tlearn: 0.8987767\ttest: 0.8987767\tbest: 0.8987767 (207)\ttotal: 210ms\tremaining: 93.1ms\n",
      "208:\tlearn: 0.8998436\ttest: 0.8998436\tbest: 0.8998436 (208)\ttotal: 211ms\tremaining: 91.8ms\n",
      "209:\tlearn: 0.9007794\ttest: 0.9007794\tbest: 0.9007794 (209)\ttotal: 211ms\tremaining: 90.5ms\n",
      "210:\tlearn: 0.9020504\ttest: 0.9020504\tbest: 0.9020504 (210)\ttotal: 212ms\tremaining: 89.3ms\n",
      "211:\tlearn: 0.9032973\ttest: 0.9032973\tbest: 0.9032973 (211)\ttotal: 212ms\tremaining: 88ms\n",
      "212:\tlearn: 0.9045534\ttest: 0.9045534\tbest: 0.9045534 (212)\ttotal: 212ms\tremaining: 86.7ms\n",
      "213:\tlearn: 0.9052719\ttest: 0.9052719\tbest: 0.9052719 (213)\ttotal: 213ms\tremaining: 85.4ms\n",
      "214:\tlearn: 0.9057627\ttest: 0.9057627\tbest: 0.9057627 (214)\ttotal: 213ms\tremaining: 84.2ms\n",
      "215:\tlearn: 0.9064610\ttest: 0.9064610\tbest: 0.9064610 (215)\ttotal: 213ms\tremaining: 83ms\n",
      "216:\tlearn: 0.9072766\ttest: 0.9072766\tbest: 0.9072766 (216)\ttotal: 214ms\tremaining: 81.7ms\n",
      "217:\tlearn: 0.9084620\ttest: 0.9084620\tbest: 0.9084620 (217)\ttotal: 214ms\tremaining: 80.5ms\n",
      "218:\tlearn: 0.9095015\ttest: 0.9095015\tbest: 0.9095015 (218)\ttotal: 214ms\tremaining: 79.3ms\n",
      "219:\tlearn: 0.9101409\ttest: 0.9101409\tbest: 0.9101409 (219)\ttotal: 215ms\tremaining: 78.1ms\n",
      "220:\tlearn: 0.9108334\ttest: 0.9108334\tbest: 0.9108334 (220)\ttotal: 215ms\tremaining: 76.9ms\n",
      "221:\tlearn: 0.9115318\ttest: 0.9115318\tbest: 0.9115318 (221)\ttotal: 215ms\tremaining: 75.7ms\n",
      "222:\tlearn: 0.9126614\ttest: 0.9126614\tbest: 0.9126614 (222)\ttotal: 216ms\tremaining: 74.5ms\n",
      "223:\tlearn: 0.9137804\ttest: 0.9137804\tbest: 0.9137804 (223)\ttotal: 216ms\tremaining: 73.3ms\n",
      "224:\tlearn: 0.9142561\ttest: 0.9142561\tbest: 0.9142561 (224)\ttotal: 216ms\tremaining: 72.1ms\n",
      "225:\tlearn: 0.9151053\ttest: 0.9151053\tbest: 0.9151053 (225)\ttotal: 217ms\tremaining: 71ms\n",
      "226:\tlearn: 0.9159973\ttest: 0.9159973\tbest: 0.9159973 (226)\ttotal: 217ms\tremaining: 69.9ms\n",
      "227:\tlearn: 0.9168306\ttest: 0.9168306\tbest: 0.9168306 (227)\ttotal: 218ms\tremaining: 68.7ms\n",
      "228:\tlearn: 0.9176482\ttest: 0.9176482\tbest: 0.9176482 (228)\ttotal: 218ms\tremaining: 67.6ms\n",
      "229:\tlearn: 0.9183687\ttest: 0.9183687\tbest: 0.9183687 (229)\ttotal: 218ms\tremaining: 66.5ms\n",
      "230:\tlearn: 0.9190406\ttest: 0.9190406\tbest: 0.9190406 (230)\ttotal: 219ms\tremaining: 65.3ms\n",
      "231:\tlearn: 0.9198941\ttest: 0.9198941\tbest: 0.9198941 (231)\ttotal: 219ms\tremaining: 64.2ms\n",
      "232:\tlearn: 0.9204638\ttest: 0.9204638\tbest: 0.9204638 (232)\ttotal: 219ms\tremaining: 63.1ms\n",
      "233:\tlearn: 0.9212494\ttest: 0.9212494\tbest: 0.9212494 (233)\ttotal: 220ms\tremaining: 62ms\n",
      "234:\tlearn: 0.9220371\ttest: 0.9220371\tbest: 0.9220371 (234)\ttotal: 220ms\tremaining: 60.9ms\n",
      "235:\tlearn: 0.9230163\ttest: 0.9230163\tbest: 0.9230163 (235)\ttotal: 220ms\tremaining: 59.8ms\n",
      "236:\tlearn: 0.9238257\ttest: 0.9238257\tbest: 0.9238257 (236)\ttotal: 221ms\tremaining: 58.7ms\n",
      "237:\tlearn: 0.9247917\ttest: 0.9247917\tbest: 0.9247917 (237)\ttotal: 221ms\tremaining: 57.6ms\n",
      "238:\tlearn: 0.9255777\ttest: 0.9255777\tbest: 0.9255777 (238)\ttotal: 221ms\tremaining: 56.5ms\n",
      "239:\tlearn: 0.9262017\ttest: 0.9262017\tbest: 0.9262017 (239)\ttotal: 222ms\tremaining: 55.4ms\n",
      "240:\tlearn: 0.9269231\ttest: 0.9269231\tbest: 0.9269231 (240)\ttotal: 222ms\tremaining: 54.4ms\n",
      "241:\tlearn: 0.9276808\ttest: 0.9276808\tbest: 0.9276808 (241)\ttotal: 222ms\tremaining: 53.3ms\n",
      "242:\tlearn: 0.9285916\ttest: 0.9285916\tbest: 0.9285916 (242)\ttotal: 223ms\tremaining: 52.2ms\n",
      "243:\tlearn: 0.9294955\ttest: 0.9294955\tbest: 0.9294955 (243)\ttotal: 223ms\tremaining: 51.2ms\n",
      "244:\tlearn: 0.9303872\ttest: 0.9303872\tbest: 0.9303872 (244)\ttotal: 223ms\tremaining: 50.1ms\n",
      "245:\tlearn: 0.9312624\ttest: 0.9312624\tbest: 0.9312624 (245)\ttotal: 224ms\tremaining: 49.1ms\n",
      "246:\tlearn: 0.9318389\ttest: 0.9318389\tbest: 0.9318389 (246)\ttotal: 224ms\tremaining: 48.1ms\n",
      "247:\tlearn: 0.9323002\ttest: 0.9323002\tbest: 0.9323002 (247)\ttotal: 224ms\tremaining: 47ms\n",
      "248:\tlearn: 0.9329563\ttest: 0.9329563\tbest: 0.9329563 (248)\ttotal: 225ms\tremaining: 46ms\n",
      "249:\tlearn: 0.9337963\ttest: 0.9337963\tbest: 0.9337963 (249)\ttotal: 225ms\tremaining: 45ms\n",
      "250:\tlearn: 0.9346265\ttest: 0.9346265\tbest: 0.9346265 (250)\ttotal: 225ms\tremaining: 44ms\n",
      "251:\tlearn: 0.9353032\ttest: 0.9353032\tbest: 0.9353032 (251)\ttotal: 226ms\tremaining: 43ms\n",
      "252:\tlearn: 0.9359281\ttest: 0.9359281\tbest: 0.9359281 (252)\ttotal: 226ms\tremaining: 42ms\n",
      "253:\tlearn: 0.9363625\ttest: 0.9363625\tbest: 0.9363625 (253)\ttotal: 226ms\tremaining: 41ms\n",
      "254:\tlearn: 0.9371529\ttest: 0.9371529\tbest: 0.9371529 (254)\ttotal: 227ms\tremaining: 40ms\n",
      "255:\tlearn: 0.9379346\ttest: 0.9379346\tbest: 0.9379346 (255)\ttotal: 227ms\tremaining: 39ms\n",
      "256:\tlearn: 0.9387153\ttest: 0.9387153\tbest: 0.9387153 (256)\ttotal: 227ms\tremaining: 38ms\n",
      "257:\tlearn: 0.9393441\ttest: 0.9393441\tbest: 0.9393441 (257)\ttotal: 228ms\tremaining: 37.1ms\n",
      "258:\tlearn: 0.9401063\ttest: 0.9401063\tbest: 0.9401063 (258)\ttotal: 228ms\tremaining: 36.1ms\n",
      "259:\tlearn: 0.9408465\ttest: 0.9408465\tbest: 0.9408465 (259)\ttotal: 228ms\tremaining: 35.1ms\n",
      "260:\tlearn: 0.9414127\ttest: 0.9414127\tbest: 0.9414127 (260)\ttotal: 229ms\tremaining: 34.2ms\n",
      "261:\tlearn: 0.9418138\ttest: 0.9418138\tbest: 0.9418138 (261)\ttotal: 229ms\tremaining: 33.2ms\n",
      "262:\tlearn: 0.9422391\ttest: 0.9422391\tbest: 0.9422391 (262)\ttotal: 229ms\tremaining: 32.3ms\n",
      "263:\tlearn: 0.9427945\ttest: 0.9427945\tbest: 0.9427945 (263)\ttotal: 230ms\tremaining: 31.3ms\n",
      "264:\tlearn: 0.9435005\ttest: 0.9435005\tbest: 0.9435005 (264)\ttotal: 230ms\tremaining: 30.4ms\n",
      "265:\tlearn: 0.9441966\ttest: 0.9441966\tbest: 0.9441966 (265)\ttotal: 230ms\tremaining: 29.4ms\n",
      "266:\tlearn: 0.9447533\ttest: 0.9447533\tbest: 0.9447533 (266)\ttotal: 231ms\tremaining: 28.5ms\n",
      "267:\tlearn: 0.9453186\ttest: 0.9453186\tbest: 0.9453186 (267)\ttotal: 231ms\tremaining: 27.6ms\n",
      "268:\tlearn: 0.9458700\ttest: 0.9458700\tbest: 0.9458700 (268)\ttotal: 231ms\tremaining: 26.6ms\n",
      "269:\tlearn: 0.9465373\ttest: 0.9465373\tbest: 0.9465373 (269)\ttotal: 231ms\tremaining: 25.7ms\n",
      "270:\tlearn: 0.9470475\ttest: 0.9470475\tbest: 0.9470475 (270)\ttotal: 232ms\tremaining: 24.8ms\n",
      "271:\tlearn: 0.9475497\ttest: 0.9475497\tbest: 0.9475497 (271)\ttotal: 232ms\tremaining: 23.9ms\n",
      "272:\tlearn: 0.9480506\ttest: 0.9480506\tbest: 0.9480506 (272)\ttotal: 232ms\tremaining: 23ms\n",
      "273:\tlearn: 0.9485558\ttest: 0.9485558\tbest: 0.9485558 (273)\ttotal: 233ms\tremaining: 22.1ms\n",
      "274:\tlearn: 0.9490444\ttest: 0.9490444\tbest: 0.9490444 (274)\ttotal: 233ms\tremaining: 21.2ms\n",
      "275:\tlearn: 0.9495557\ttest: 0.9495557\tbest: 0.9495557 (275)\ttotal: 233ms\tremaining: 20.3ms\n",
      "276:\tlearn: 0.9501772\ttest: 0.9501772\tbest: 0.9501772 (276)\ttotal: 234ms\tremaining: 19.4ms\n",
      "277:\tlearn: 0.9506690\ttest: 0.9506690\tbest: 0.9506690 (277)\ttotal: 234ms\tremaining: 18.5ms\n",
      "278:\tlearn: 0.9512094\ttest: 0.9512094\tbest: 0.9512094 (278)\ttotal: 234ms\tremaining: 17.6ms\n",
      "279:\tlearn: 0.9515144\ttest: 0.9515144\tbest: 0.9515144 (279)\ttotal: 234ms\tremaining: 16.7ms\n",
      "280:\tlearn: 0.9519699\ttest: 0.9519699\tbest: 0.9519699 (280)\ttotal: 235ms\tremaining: 15.9ms\n",
      "281:\tlearn: 0.9525622\ttest: 0.9525622\tbest: 0.9525622 (281)\ttotal: 235ms\tremaining: 15ms\n",
      "282:\tlearn: 0.9530066\ttest: 0.9530066\tbest: 0.9530066 (282)\ttotal: 235ms\tremaining: 14.1ms\n",
      "283:\tlearn: 0.9534460\ttest: 0.9534460\tbest: 0.9534460 (283)\ttotal: 236ms\tremaining: 13.3ms\n",
      "284:\tlearn: 0.9539025\ttest: 0.9539025\tbest: 0.9539025 (284)\ttotal: 236ms\tremaining: 12.4ms\n",
      "285:\tlearn: 0.9544624\ttest: 0.9544624\tbest: 0.9544624 (285)\ttotal: 236ms\tremaining: 11.6ms\n",
      "286:\tlearn: 0.9547607\ttest: 0.9547607\tbest: 0.9547607 (286)\ttotal: 237ms\tremaining: 10.7ms\n",
      "287:\tlearn: 0.9551849\ttest: 0.9551849\tbest: 0.9551849 (287)\ttotal: 237ms\tremaining: 9.87ms\n",
      "288:\tlearn: 0.9556371\ttest: 0.9556371\tbest: 0.9556371 (288)\ttotal: 237ms\tremaining: 9.03ms\n",
      "289:\tlearn: 0.9560499\ttest: 0.9560499\tbest: 0.9560499 (289)\ttotal: 238ms\tremaining: 8.19ms\n",
      "290:\tlearn: 0.9565794\ttest: 0.9565794\tbest: 0.9565794 (290)\ttotal: 238ms\tremaining: 7.36ms\n",
      "291:\tlearn: 0.9569114\ttest: 0.9569114\tbest: 0.9569114 (291)\ttotal: 238ms\tremaining: 6.52ms\n",
      "292:\tlearn: 0.9574328\ttest: 0.9574328\tbest: 0.9574328 (292)\ttotal: 238ms\tremaining: 5.7ms\n",
      "293:\tlearn: 0.9578278\ttest: 0.9578278\tbest: 0.9578278 (293)\ttotal: 239ms\tremaining: 4.87ms\n",
      "294:\tlearn: 0.9581482\ttest: 0.9581482\tbest: 0.9581482 (294)\ttotal: 239ms\tremaining: 4.05ms\n",
      "295:\tlearn: 0.9586568\ttest: 0.9586568\tbest: 0.9586568 (295)\ttotal: 239ms\tremaining: 3.23ms\n",
      "296:\tlearn: 0.9591610\ttest: 0.9591610\tbest: 0.9591610 (296)\ttotal: 240ms\tremaining: 2.42ms\n",
      "297:\tlearn: 0.9595446\ttest: 0.9595446\tbest: 0.9595446 (297)\ttotal: 240ms\tremaining: 1.61ms\n",
      "298:\tlearn: 0.9599574\ttest: 0.9599574\tbest: 0.9599574 (298)\ttotal: 240ms\tremaining: 803us\n",
      "299:\tlearn: 0.9602830\ttest: 0.9602830\tbest: 0.9602830 (299)\ttotal: 241ms\tremaining: 0us\n",
      "\n",
      "bestTest = 0.9602829757\n",
      "bestIteration = 299\n",
      "\n"
     ]
    },
    {
     "data": {
      "text/plain": [
       "<catboost.core.CatBoostRegressor at 0x20f7700ae20>"
      ]
     },
     "execution_count": 41,
     "metadata": {},
     "output_type": "execute_result"
    }
   ],
   "source": [
    "from catboost import CatBoostRegressor\n",
    "\n",
    "model = CatBoostRegressor(iterations = 300, depth = 3, learning_rate = 0.01,\n",
    "                          eval_metric = 'R2',\n",
    "                          use_best_model = True,\n",
    "                          random_seed = 42)\n",
    "train_x = dfdt[dtfeatures]\n",
    "tgt = '불량여부'\n",
    "train_y = dfdt[tgt]\n",
    "\n",
    "model.fit(train_x, train_y, eval_set = (train_x, train_y))"
   ]
  },
  {
   "cell_type": "code",
   "execution_count": 42,
   "id": "78a3a52d",
   "metadata": {},
   "outputs": [
    {
     "data": {
      "text/plain": [
       "<Figure size 432x288 with 0 Axes>"
      ]
     },
     "metadata": {},
     "output_type": "display_data"
    },
    {
     "data": {
      "image/png": "[encoded data removed]",
      "text/plain": [
       "<Figure size 288x288 with 1 Axes>"
      ]
     },
     "metadata": {
      "needs_background": "light"
     },
     "output_type": "display_data"
    },
    {
     "data": {
      "text/html": [
       "<div>\n",
       "<style scoped>\n",
       "    .dataframe tbody tr th:only-of-type {\n",
       "        vertical-align: middle;\n",
       "    }\n",
       "\n",
       "    .dataframe tbody tr th {\n",
       "        vertical-align: top;\n",
       "    }\n",
       "\n",
       "    .dataframe thead th {\n",
       "        text-align: right;\n",
       "    }\n",
       "</style>\n",
       "<table border=\"1\" class=\"dataframe\">\n",
       "  <thead>\n",
       "    <tr style=\"text-align: right;\">\n",
       "      <th></th>\n",
       "      <th>imp</th>\n",
       "      <th>col</th>\n",
       "      <th>cum_sum_imp</th>\n",
       "    </tr>\n",
       "  </thead>\n",
       "  <tbody>\n",
       "    <tr>\n",
       "      <th>0</th>\n",
       "      <td>77.67</td>\n",
       "      <td>실제하중</td>\n",
       "      <td>77.67</td>\n",
       "    </tr>\n",
       "    <tr>\n",
       "      <th>2</th>\n",
       "      <td>11.75</td>\n",
       "      <td>조정속도</td>\n",
       "      <td>89.42</td>\n",
       "    </tr>\n",
       "    <tr>\n",
       "      <th>3</th>\n",
       "      <td>8.01</td>\n",
       "      <td>감속거리</td>\n",
       "      <td>97.43</td>\n",
       "    </tr>\n",
       "    <tr>\n",
       "      <th>4</th>\n",
       "      <td>1.68</td>\n",
       "      <td>선명도</td>\n",
       "      <td>99.11</td>\n",
       "    </tr>\n",
       "    <tr>\n",
       "      <th>1</th>\n",
       "      <td>0.89</td>\n",
       "      <td>제한하중</td>\n",
       "      <td>100.00</td>\n",
       "    </tr>\n",
       "    <tr>\n",
       "      <th>row_total</th>\n",
       "      <td>100.00</td>\n",
       "      <td>제한하중선명도감속거리조정속도실제하중</td>\n",
       "      <td>NaN</td>\n",
       "    </tr>\n",
       "  </tbody>\n",
       "</table>\n",
       "</div>"
      ],
      "text/plain": [
       "              imp                  col  cum_sum_imp\n",
       "0           77.67                 실제하중        77.67\n",
       "2           11.75                 조정속도        89.42\n",
       "3            8.01                 감속거리        97.43\n",
       "4            1.68                  선명도        99.11\n",
       "1            0.89                 제한하중       100.00\n",
       "row_total  100.00  제한하중선명도감속거리조정속도실제하중          NaN"
      ]
     },
     "execution_count": 42,
     "metadata": {},
     "output_type": "execute_result"
    }
   ],
   "source": [
    "plt.figure()\n",
    "\n",
    "fea_imp = pd.DataFrame({'imp':model.feature_importances_, 'col' : train_x.columns})\n",
    "fea_imp['imp'] = round(fea_imp.imp, 2)\n",
    "fea_imp = fea_imp.sort_values(['imp','col'], ascending=[True,False]).iloc[-30:]\n",
    "_ = fea_imp.plot(kind = 'barh', x = 'col', y = 'imp', figsize = (4,4))\n",
    "plt.title('CatBoost 기반 불량여부 최적의 변수 중요도')\n",
    "plt.show()\n",
    "\n",
    "fea_imp1 = fea_imp.sort_values('imp', ascending = False)\n",
    "\n",
    "fea_imp1['cum_sum_imp'] = round(fea_imp1['imp'].cumsum(),2)\n",
    "fea_imp1.loc['row_total'] = fea_imp.apply(lambda x: x.sum())\n",
    "fea_imp1"
   ]
  },
  {
   "cell_type": "code",
   "execution_count": 43,
   "id": "dcc554b7",
   "metadata": {},
   "outputs": [
    {
     "data": {
      "image/png": "[encoded data removed]",
      "text/plain": [
       "<Figure size 432x288 with 1 Axes>"
      ]
     },
     "metadata": {
      "needs_background": "light"
     },
     "output_type": "display_data"
    }
   ],
   "source": [
    "median_limP = data.제한하중.median()\n",
    "#colors2 = ['red' if x>median_limP else 'blue' for x in data.제한하중]\n",
    "colors_1 = ['red' if x >= 1700 else 'blue' for x in data.실제하중]\n",
    "\n",
    "plt.scatter((data.실제하중), (data.선명도), color = colors_1)\n",
    "\n",
    "plt.xlabel(\"실제하중\")\n",
    "plt.ylabel(\"선명도\")\n",
    "plt.show()"
   ]
  },
  {
   "cell_type": "code",
   "execution_count": 44,
   "id": "71e785cb",
   "metadata": {},
   "outputs": [
    {
     "data": {
      "text/html": [
       "<style>#sk-container-id-1 {color: black;background-color: white;}#sk-container-id-1 pre{padding: 0;}#sk-container-id-1 div.sk-toggleable {background-color: white;}#sk-container-id-1 label.sk-toggleable__label {cursor: pointer;display: block;width: 100%;margin-bottom: 0;padding: 0.3em;box-sizing: border-box;text-align: center;}#sk-container-id-1 label.sk-toggleable__label-arrow:before {content: \"▸\";float: left;margin-right: 0.25em;color: #696969;}#sk-container-id-1 label.sk-toggleable__label-arrow:hover:before {color: black;}#sk-container-id-1 div.sk-estimator:hover label.sk-toggleable__label-arrow:before {color: black;}#sk-container-id-1 div.sk-toggleable__content {max-height: 0;max-width: 0;overflow: hidden;text-align: left;background-color: #f0f8ff;}#sk-container-id-1 div.sk-toggleable__content pre {margin: 0.2em;color: black;border-radius: 0.25em;background-color: #f0f8ff;}#sk-container-id-1 input.sk-toggleable__control:checked~div.sk-toggleable__content {max-height: 200px;max-width: 100%;overflow: auto;}#sk-container-id-1 input.sk-toggleable__control:checked~label.sk-toggleable__label-arrow:before {content: \"▾\";}#sk-container-id-1 div.sk-estimator input.sk-toggleable__control:checked~label.sk-toggleable__label {background-color: #d4ebff;}#sk-container-id-1 div.sk-label input.sk-toggleable__control:checked~label.sk-toggleable__label {background-color: #d4ebff;}#sk-container-id-1 input.sk-hidden--visually {border: 0;clip: rect(1px 1px 1px 1px);clip: rect(1px, 1px, 1px, 1px);height: 1px;margin: -1px;overflow: hidden;padding: 0;position: absolute;width: 1px;}#sk-container-id-1 div.sk-estimator {font-family: monospace;background-color: #f0f8ff;border: 1px dotted black;border-radius: 0.25em;box-sizing: border-box;margin-bottom: 0.5em;}#sk-container-id-1 div.sk-estimator:hover {background-color: #d4ebff;}#sk-container-id-1 div.sk-parallel-item::after {content: \"\";width: 100%;border-bottom: 1px solid gray;flex-grow: 1;}#sk-container-id-1 div.sk-label:hover label.sk-toggleable__label {background-color: #d4ebff;}#sk-container-id-1 div.sk-serial::before {content: \"\";position: absolute;border-left: 1px solid gray;box-sizing: border-box;top: 0;bottom: 0;left: 50%;z-index: 0;}#sk-container-id-1 div.sk-serial {display: flex;flex-direction: column;align-items: center;background-color: white;padding-right: 0.2em;padding-left: 0.2em;position: relative;}#sk-container-id-1 div.sk-item {position: relative;z-index: 1;}#sk-container-id-1 div.sk-parallel {display: flex;align-items: stretch;justify-content: center;background-color: white;position: relative;}#sk-container-id-1 div.sk-item::before, #sk-container-id-1 div.sk-parallel-item::before {content: \"\";position: absolute;border-left: 1px solid gray;box-sizing: border-box;top: 0;bottom: 0;left: 50%;z-index: -1;}#sk-container-id-1 div.sk-parallel-item {display: flex;flex-direction: column;z-index: 1;position: relative;background-color: white;}#sk-container-id-1 div.sk-parallel-item:first-child::after {align-self: flex-end;width: 50%;}#sk-container-id-1 div.sk-parallel-item:last-child::after {align-self: flex-start;width: 50%;}#sk-container-id-1 div.sk-parallel-item:only-child::after {width: 0;}#sk-container-id-1 div.sk-dashed-wrapped {border: 1px dashed gray;margin: 0 0.4em 0.5em 0.4em;box-sizing: border-box;padding-bottom: 0.4em;background-color: white;}#sk-container-id-1 div.sk-label label {font-family: monospace;font-weight: bold;display: inline-block;line-height: 1.2em;}#sk-container-id-1 div.sk-label-container {text-align: center;}#sk-container-id-1 div.sk-container {/* jupyter's `normalize.less` sets `[hidden] { display: none; }` but bootstrap.min.css set `[hidden] { display: none !important; }` so we also need the `!important` here to be able to override the default hidden behavior on the sphinx rendered scikit-learn.org. See: https://github.com/scikit-learn/scikit-learn/issues/21755 */display: inline-block !important;position: relative;}#sk-container-id-1 div.sk-text-repr-fallback {display: none;}</style><div id=\"sk-container-id-1\" class=\"sk-top-container\"><div class=\"sk-text-repr-fallback\"><pre>LogisticRegression()</pre><b>In a Jupyter environment, please rerun this cell to show the HTML representation or trust the notebook. <br />On GitHub, the HTML representation is unable to render, please try loading this page with nbviewer.org.</b></div><div class=\"sk-container\" hidden><div class=\"sk-item\"><div class=\"sk-estimator sk-toggleable\"><input class=\"sk-toggleable__control sk-hidden--visually\" id=\"sk-estimator-id-1\" type=\"checkbox\" checked><label for=\"sk-estimator-id-1\" class=\"sk-toggleable__label sk-toggleable__label-arrow\">LogisticRegression</label><div class=\"sk-toggleable__content\"><pre>LogisticRegression()</pre></div></div></div></div></div>"
      ],
      "text/plain": [
       "LogisticRegression()"
      ]
     },
     "execution_count": 44,
     "metadata": {},
     "output_type": "execute_result"
    }
   ],
   "source": [
    "from sklearn.linear_model import LogisticRegression\n",
    "from sklearn.model_selection import train_test_split\n",
    "from sklearn.preprocessing import StandardScaler\n",
    "\n",
    "features = data[['실제하중','조정속도','감속거리','선명도','제한하중']]\n",
    "actual_press = data['불량여부']\n",
    "\n",
    "train_features, test_features, train_labels, test_labels = train_test_split(features, actual_press, test_size = 0.2)\n",
    "\n",
    "scaler = StandardScaler()\n",
    "\n",
    "train_features = scaler.fit_transform(train_features)\n",
    "test_features = scaler.transform(test_features)\n",
    "\n",
    "model = LogisticRegression()\n",
    "model.fit(train_features, train_labels)"
   ]
  },
  {
   "cell_type": "code",
   "execution_count": 45,
   "id": "f26c35e0",
   "metadata": {},
   "outputs": [],
   "source": [
    "#pred = model.predict()"
   ]
  },
  {
   "cell_type": "code",
   "execution_count": 46,
   "id": "4f39f313",
   "metadata": {},
   "outputs": [
    {
     "name": "stdout",
     "output_type": "stream",
     "text": [
      "1.0\n"
     ]
    }
   ],
   "source": [
    "print(model.score(train_features, train_labels))"
   ]
  },
  {
   "cell_type": "code",
   "execution_count": 47,
   "id": "f30c5a7a",
   "metadata": {},
   "outputs": [
    {
     "name": "stdout",
     "output_type": "stream",
     "text": [
      "1.0\n"
     ]
    }
   ],
   "source": [
    "print(model.score(test_features, test_labels))"
   ]
  },
  {
   "cell_type": "code",
   "execution_count": 48,
   "id": "87c8ddee",
   "metadata": {},
   "outputs": [
    {
     "name": "stdout",
     "output_type": "stream",
     "text": [
      "[[-1.26338299 -1.10659296 -0.37664416 -0.09340066  0.22549602]]\n"
     ]
    }
   ],
   "source": [
    "print(model.coef_)"
   ]
  },
  {
   "cell_type": "code",
   "execution_count": 49,
   "id": "10fb3973",
   "metadata": {},
   "outputs": [
    {
     "data": {
      "text/plain": [
       "1.0"
      ]
     },
     "execution_count": 49,
     "metadata": {},
     "output_type": "execute_result"
    }
   ],
   "source": [
    "from sklearn.metrics import accuracy_score\n",
    "\n",
    "y_pred = model.predict(test_features)\n",
    "\n",
    "accuracy_score(y_pred, test_labels)"
   ]
  },
  {
   "cell_type": "code",
   "execution_count": 50,
   "id": "244d3ab3",
   "metadata": {},
   "outputs": [
    {
     "name": "stdout",
     "output_type": "stream",
     "text": [
      "[3.67255461]\n"
     ]
    }
   ],
   "source": [
    "print(model.intercept_)"
   ]
  },
  {
   "cell_type": "code",
   "execution_count": 51,
   "id": "20e7f161",
   "metadata": {},
   "outputs": [
    {
     "name": "stdout",
     "output_type": "stream",
     "text": [
      "[ 5.58  0.44 -0.74  6.3   5.94]\n"
     ]
    }
   ],
   "source": [
    "decision = model.decision_function(test_features[:5])\n",
    "print(np.round(decision, decimals = 2))"
   ]
  },
  {
   "cell_type": "code",
   "execution_count": 52,
   "id": "828108be",
   "metadata": {},
   "outputs": [
    {
     "name": "stdout",
     "output_type": "stream",
     "text": [
      "[0.223 0.001 0.    0.457 0.318]\n"
     ]
    }
   ],
   "source": [
    "from scipy.special import softmax\n",
    "\n",
    "proba = softmax(decision)\n",
    "print(np.round(proba,decimals = 3))"
   ]
  },
  {
   "cell_type": "code",
   "execution_count": 53,
   "id": "fed908b4",
   "metadata": {},
   "outputs": [
    {
     "name": "stdout",
     "output_type": "stream",
     "text": [
      "[1 1 1 1 0 0]\n"
     ]
    },
    {
     "name": "stderr",
     "output_type": "stream",
     "text": [
      "E:\\Users\\bo\\anaconda3\\lib\\site-packages\\sklearn\\base.py:450: UserWarning: X does not have valid feature names, but StandardScaler was fitted with feature names\n",
      "  warnings.warn(\n"
     ]
    }
   ],
   "source": [
    "# 실제하중, 조정속도, 김속거리, 선명도, 제한하중\n",
    "ex_1 = np.array([1000,1.01,100,70.64,200])\n",
    "ex_2 = np.array([1705,1.01,100,80.98,300])\n",
    "ex_3 = np.array([1900,1.01,100,80.89,200])\n",
    "ex_4 = np.array([1000,50.00,100,70.64,200])\n",
    "ex_5 = np.array([1705,50.00,100,70.64,200])\n",
    "ex_6 = np.array([1900,50.00,100,70.64,200])\n",
    "\n",
    "sample_data = np.array([ex_1,ex_2,ex_3,ex_4,ex_5,ex_6])\n",
    "\n",
    "sample_data = scaler.transform(sample_data)\n",
    "\n",
    "print(model.predict(sample_data))"
   ]
  }
 ],
 "metadata": {
  "kernelspec": {
   "display_name": "Python 3",
   "language": "python",
   "name": "python3"
  },
  "language_info": {
   "codemirror_mode": {
    "name": "ipython",
    "version": 3
   },
   "file_extension": ".py",
   "mimetype": "text/x-python",
   "name": "python",
   "nbconvert_exporter": "python",
   "pygments_lexer": "ipython3",
   "version": "3.8.8"
  }
 },
 "nbformat": 4,
 "nbformat_minor": 5
}
